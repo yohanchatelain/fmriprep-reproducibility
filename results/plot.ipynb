{
 "cells": [
  {
   "cell_type": "markdown",
   "metadata": {},
   "source": [
    "# A numerical variability approach to results stability tests and its application to neuroimaging\n",
    "\n",
    "This Jupyter notebook reproduces figures present in the paper."
   ]
  },
  {
   "cell_type": "code",
   "execution_count": 2,
   "metadata": {},
   "outputs": [],
   "source": [
    "import glob\n",
    "import os\n",
    "\n",
    "import joblib\n",
    "import nibabel\n",
    "import nilearn.masking\n",
    "import numpy as np\n",
    "import pandas as pd\n",
    "import significantdigits as sdg\n",
    "import tqdm\n",
    "from joblib import Memory, Parallel, delayed\n",
    "import plotly.express as px\n",
    "import plotly.graph_objects as go\n",
    "import nilearn.plotting\n",
    "import matplotlib.pyplot as plt\n",
    "from matplotlib import cm"
   ]
  },
  {
   "cell_type": "markdown",
   "metadata": {},
   "source": [
    "## Table II. Dimensions, voxels resolutions, age and sex of each subject in the dataset."
   ]
  },
  {
   "cell_type": "code",
   "execution_count": 3,
   "metadata": {},
   "outputs": [
    {
     "data": {
      "text/html": [
       "<div>\n",
       "<style scoped>\n",
       "    .dataframe tbody tr th:only-of-type {\n",
       "        vertical-align: middle;\n",
       "    }\n",
       "\n",
       "    .dataframe tbody tr th {\n",
       "        vertical-align: top;\n",
       "    }\n",
       "\n",
       "    .dataframe thead th {\n",
       "        text-align: right;\n",
       "    }\n",
       "</style>\n",
       "<table border=\"1\" class=\"dataframe\">\n",
       "  <thead>\n",
       "    <tr style=\"text-align: right;\">\n",
       "      <th></th>\n",
       "      <th>Index</th>\n",
       "      <th>Dataset</th>\n",
       "      <th>Subject</th>\n",
       "      <th>Dimension (x, y, z)</th>\n",
       "      <th>Voxel resolution (x, y, z)</th>\n",
       "      <th>Data type</th>\n",
       "      <th>Age (years)</th>\n",
       "      <th>Sex</th>\n",
       "    </tr>\n",
       "  </thead>\n",
       "  <tbody>\n",
       "    <tr>\n",
       "      <th>0</th>\n",
       "      <td>1</td>\n",
       "      <td>ds000256</td>\n",
       "      <td>sub-CTS201</td>\n",
       "      <td>256 × 256 × 256</td>\n",
       "      <td>1.0 × 1.0 × 1.0</td>\n",
       "      <td>int16</td>\n",
       "      <td>8.68</td>\n",
       "      <td>M</td>\n",
       "    </tr>\n",
       "    <tr>\n",
       "      <th>1</th>\n",
       "      <td>2</td>\n",
       "      <td>ds000256</td>\n",
       "      <td>sub-CTS210</td>\n",
       "      <td>224 × 256 × 256</td>\n",
       "      <td>0.8 × 0.8 × 0.8</td>\n",
       "      <td>int16</td>\n",
       "      <td>7.63</td>\n",
       "      <td>F</td>\n",
       "    </tr>\n",
       "    <tr>\n",
       "      <th>2</th>\n",
       "      <td>3</td>\n",
       "      <td>ds001600</td>\n",
       "      <td>sub-1</td>\n",
       "      <td>176 × 256 × 256</td>\n",
       "      <td>1.0 × 1.0 × 1.0</td>\n",
       "      <td>int16</td>\n",
       "      <td>-</td>\n",
       "      <td>-</td>\n",
       "    </tr>\n",
       "    <tr>\n",
       "      <th>3</th>\n",
       "      <td>4</td>\n",
       "      <td>ds001748</td>\n",
       "      <td>sub-adult15</td>\n",
       "      <td>176 × 240 × 256</td>\n",
       "      <td>1.0 × 1.0 × 1.0</td>\n",
       "      <td>float32</td>\n",
       "      <td>21</td>\n",
       "      <td>M</td>\n",
       "    </tr>\n",
       "    <tr>\n",
       "      <th>4</th>\n",
       "      <td>5</td>\n",
       "      <td>ds001748</td>\n",
       "      <td>sub-adult16</td>\n",
       "      <td>176 × 240 × 256</td>\n",
       "      <td>1.0 × 1.0 × 1.0</td>\n",
       "      <td>float32</td>\n",
       "      <td>21</td>\n",
       "      <td>F</td>\n",
       "    </tr>\n",
       "    <tr>\n",
       "      <th>5</th>\n",
       "      <td>6</td>\n",
       "      <td>ds001771</td>\n",
       "      <td>sub-36</td>\n",
       "      <td>256 × 320 × 320</td>\n",
       "      <td>0.8 × 0.8 × 0.8</td>\n",
       "      <td>int16</td>\n",
       "      <td>22</td>\n",
       "      <td>F</td>\n",
       "    </tr>\n",
       "    <tr>\n",
       "      <th>6</th>\n",
       "      <td>7</td>\n",
       "      <td>ds002338</td>\n",
       "      <td>sub-xp201</td>\n",
       "      <td>176 × 512 × 512</td>\n",
       "      <td>1.0 × 0.5 × 0.5</td>\n",
       "      <td>int16</td>\n",
       "      <td>41</td>\n",
       "      <td>F</td>\n",
       "    </tr>\n",
       "    <tr>\n",
       "      <th>7</th>\n",
       "      <td>8</td>\n",
       "      <td>ds002338</td>\n",
       "      <td>sub-xp207</td>\n",
       "      <td>176 × 512 × 512</td>\n",
       "      <td>1.0 × 0.5 × 0.5</td>\n",
       "      <td>int16</td>\n",
       "      <td>39</td>\n",
       "      <td>M</td>\n",
       "    </tr>\n",
       "  </tbody>\n",
       "</table>\n",
       "</div>"
      ],
      "text/plain": [
       "   Index   Dataset      Subject Dimension (x, y, z)  \\\n",
       "0      1  ds000256   sub-CTS201     256 × 256 × 256   \n",
       "1      2  ds000256   sub-CTS210     224 × 256 × 256   \n",
       "2      3  ds001600        sub-1     176 × 256 × 256   \n",
       "3      4  ds001748  sub-adult15     176 × 240 × 256   \n",
       "4      5  ds001748  sub-adult16     176 × 240 × 256   \n",
       "5      6  ds001771       sub-36     256 × 320 × 320   \n",
       "6      7  ds002338    sub-xp201     176 × 512 × 512   \n",
       "7      8  ds002338    sub-xp207     176 × 512 × 512   \n",
       "\n",
       "  Voxel resolution (x, y, z) Data type Age (years) Sex  \n",
       "0            1.0 × 1.0 × 1.0     int16        8.68   M  \n",
       "1            0.8 × 0.8 × 0.8     int16        7.63   F  \n",
       "2            1.0 × 1.0 × 1.0     int16           -   -  \n",
       "3            1.0 × 1.0 × 1.0   float32          21   M  \n",
       "4            1.0 × 1.0 × 1.0   float32          21   F  \n",
       "5            0.8 × 0.8 × 0.8     int16          22   F  \n",
       "6            1.0 × 0.5 × 0.5     int16          41   F  \n",
       "7            1.0 × 0.5 × 0.5     int16          39   M  "
      ]
     },
     "execution_count": 3,
     "metadata": {},
     "output_type": "execute_result"
    }
   ],
   "source": [
    "data = {\n",
    "    \"Index\": [1, 2, 3, 4, 5, 6, 7, 8],\n",
    "    \"Dataset\": [\n",
    "        \"ds000256\",\n",
    "        \"ds000256\",\n",
    "        \"ds001600\",\n",
    "        \"ds001748\",\n",
    "        \"ds001748\",\n",
    "        \"ds001771\",\n",
    "        \"ds002338\",\n",
    "        \"ds002338\",\n",
    "    ],\n",
    "    \"Subject\": [\n",
    "        \"sub-CTS201\",\n",
    "        \"sub-CTS210\",\n",
    "        \"sub-1\",\n",
    "        \"sub-adult15\",\n",
    "        \"sub-adult16\",\n",
    "        \"sub-36\",\n",
    "        \"sub-xp201\",\n",
    "        \"sub-xp207\",\n",
    "    ],\n",
    "    \"Dimension (x, y, z)\": [\n",
    "        \"256 × 256 × 256\",\n",
    "        \"224 × 256 × 256\",\n",
    "        \"176 × 256 × 256\",\n",
    "        \"176 × 240 × 256\",\n",
    "        \"176 × 240 × 256\",\n",
    "        \"256 × 320 × 320\",\n",
    "        \"176 × 512 × 512\",\n",
    "        \"176 × 512 × 512\",\n",
    "    ],\n",
    "    \"Voxel resolution (x, y, z)\": [\n",
    "        \"1.0 × 1.0 × 1.0\",\n",
    "        \"0.8 × 0.8 × 0.8\",\n",
    "        \"1.0 × 1.0 × 1.0\",\n",
    "        \"1.0 × 1.0 × 1.0\",\n",
    "        \"1.0 × 1.0 × 1.0\",\n",
    "        \"0.8 × 0.8 × 0.8\",\n",
    "        \"1.0 × 0.5 × 0.5\",\n",
    "        \"1.0 × 0.5 × 0.5\",\n",
    "    ],\n",
    "    \"Data type\": [\n",
    "        \"int16\",\n",
    "        \"int16\",\n",
    "        \"int16\",\n",
    "        \"float32\",\n",
    "        \"float32\",\n",
    "        \"int16\",\n",
    "        \"int16\",\n",
    "        \"int16\",\n",
    "    ],\n",
    "    \"Age (years)\": [8.68, 7.63, \"-\", 21, 21, 22, 41, 39],\n",
    "    \"Sex\": [\"M\", \"F\", \"-\", \"M\", \"F\", \"F\", \"F\", \"M\"],\n",
    "}\n",
    "\n",
    "subjects_table = pd.DataFrame(data)\n",
    "\n",
    "def get_index(dataset, subject):\n",
    "    return subjects_table[\n",
    "        (subjects_table[\"Dataset\"] == dataset) & (subjects_table[\"Subject\"] == subject)\n",
    "    ][\"Index\"].values[0]\n",
    "\n",
    "def get_dataset_subject(index):\n",
    "    return subjects_table[subjects_table[\"Index\"] == index][[\"Dataset\", \"Subject\"]].values[0]\n",
    "\n",
    "subjects_table"
   ]
  },
  {
   "cell_type": "code",
   "execution_count": 8,
   "metadata": {},
   "outputs": [
    {
     "name": "stdout",
     "output_type": "stream",
     "text": [
      "Perturbation rr\n",
      "Preprocessing subject 1\n",
      "All FWHMs already computed\n",
      "Preprocessing subject 2\n",
      "All FWHMs already computed\n",
      "Preprocessing subject 3\n",
      "All FWHMs already computed\n",
      "Preprocessing subject 4\n",
      "All FWHMs already computed\n",
      "Preprocessing subject 5\n",
      "All FWHMs already computed\n",
      "Preprocessing subject 6\n",
      "All FWHMs already computed\n",
      "Preprocessing subject 7\n",
      "All FWHMs already computed\n",
      "Preprocessing subject 8\n",
      "All FWHMs already computed\n",
      "Perturbation rs\n",
      "Preprocessing subject 1\n",
      "All FWHMs already computed\n",
      "Preprocessing subject 2\n",
      "All FWHMs already computed\n",
      "Preprocessing subject 3\n",
      "All FWHMs already computed\n",
      "Preprocessing subject 4\n",
      "All FWHMs already computed\n",
      "Preprocessing subject 5\n",
      "All FWHMs already computed\n",
      "Preprocessing subject 6\n",
      "All FWHMs already computed\n",
      "Preprocessing subject 7\n",
      "All FWHMs already computed\n",
      "Preprocessing subject 8\n",
      "All FWHMs already computed\n"
     ]
    }
   ],
   "source": [
    "# Compute significant digits for each perturbation, subject and FWHM\n",
    "\n",
    "def load_T1w(directory, dataset, subject):\n",
    "    t1 = f\"{subject}_space-MNI152NLin2009cAsym_desc-preproc_T1w.nii.gz\"\n",
    "    path = os.path.join(directory, f\"*{dataset}*\", \"**\", \"anat\", t1)\n",
    "    return glob.glob(path, recursive=True)\n",
    "\n",
    "\n",
    "def load_brain_mask(directory, dataset, subject):\n",
    "    mask = f\"{subject}_space-MNI152NLin2009cAsym_desc-brain_mask.nii.gz\"\n",
    "    path = os.path.join(directory, f\"*{dataset}*\", \"**\", \"anat\", mask)\n",
    "    return glob.glob(path, recursive=True)\n",
    "\n",
    "\n",
    "def compute_brain_mask_union(brain_masks):\n",
    "    UNION = 0\n",
    "    mask_union = nilearn.masking.intersect_masks(brain_masks, threshold=UNION)\n",
    "    return mask_union\n",
    "\n",
    "\n",
    "def apply_mask(t1ws, mask_union, smoothing_fwhm=None):\n",
    "    import nilearn.masking\n",
    "\n",
    "    if smoothing_fwhm == 0:\n",
    "        smoothing_fwhm = None\n",
    "    t1w_preproc = np.fromiter(\n",
    "        (\n",
    "            nilearn.masking.apply_mask(t1w, mask_union, smoothing_fwhm=smoothing_fwhm)\n",
    "            for t1w in t1ws\n",
    "        ),\n",
    "        dtype=np.dtype((np.float32, np.count_nonzero(mask_union.get_fdata()))),\n",
    "    )\n",
    "    return t1w_preproc\n",
    "\n",
    "\n",
    "def get_output_path(cache, perturbation, index, fwhm, normalized):\n",
    "    normalized = \"normalized\" if normalized else \"unnormalized\"\n",
    "    return os.path.join(\n",
    "        cache, normalized, f\"{perturbation}-Subject-{index}_FWHM-{fwhm}.npz\"\n",
    "    )\n",
    "\n",
    "def compute_significant_digits_normalized(voxels, mask_union, output_normalized):\n",
    "    reference = np.mean(voxels, axis=0)\n",
    "    sig = sdg.significant_digits(voxels, reference=reference)\n",
    "    np.savez_compressed(output_normalized, sig=sig, mask=mask_union)\n",
    "\n",
    "\n",
    "def compute_significant_digits_unnormalized(voxels, mask_union, output_unnormalized):\n",
    "    iterator = ((v - v.min()) / (v.max() - v.min()) for v in voxels)\n",
    "    voxels = np.fromiter(iter=iterator, dtype=np.dtype((np.float32, voxels.shape[1:])))\n",
    "    reference = np.mean(voxels, axis=0)\n",
    "    sig = sdg.significant_digits(voxels, reference=reference)\n",
    "    np.savez_compressed(output_unnormalized, sig=sig, mask=mask_union)\n",
    "\n",
    "\n",
    "def compute_significant_digits(\n",
    "    t1ws, mask_union, fwhm, perturbation, index, cache, force=False\n",
    "):\n",
    "    output_normalized = get_output_path(cache, perturbation, index, fwhm, True)\n",
    "    output_unnormalized = get_output_path(cache, perturbation, index, fwhm, False)\n",
    "    voxels = apply_mask(t1ws, mask_union, fwhm)\n",
    "    if not os.path.exists(output_normalized) or force:\n",
    "        compute_significant_digits_normalized(voxels, mask_union, output_normalized)\n",
    "    if not os.path.exists(output_unnormalized) or force:\n",
    "        compute_significant_digits_unnormalized(voxels, mask_union, output_unnormalized)\n",
    "\n",
    "\n",
    "for perturbation in [\"rr\", \"rs\"]:\n",
    "    print(f\"Perturbation {perturbation}\")\n",
    "    for index in subjects_table[\"Index\"]:\n",
    "        print(\"Preprocessing subject\", index)\n",
    "        directory = f\"outputs/20.2.1/{perturbation}\"\n",
    "        fwhms = []\n",
    "        for i in range(0, 21):\n",
    "            output_normalized = get_output_path(\"significant_digits\", perturbation, index, i, True)\n",
    "            output_unnormalized = get_output_path(\"significant_digits\", perturbation, index, i, False)\n",
    "            if not os.path.exists(output_normalized) or not os.path.exists(output_unnormalized):\n",
    "                fwhms.append(i)\n",
    "            else:\n",
    "                continue\n",
    "\n",
    "        if len(fwhms) == 0:\n",
    "            print(\"All FWHMs already computed\")\n",
    "            continue\n",
    "        \n",
    "        dataset, subject = get_dataset_subject(index)        \n",
    "        t1ws = load_T1w(directory, dataset, subject)\n",
    "        brain_masks = load_brain_mask(directory, dataset, subject)\n",
    "        mask_union = compute_brain_mask_union(brain_masks)\n",
    "\n",
    "        def producer():\n",
    "            for fwhm in range(0, 21):\n",
    "                yield (\n",
    "                    t1ws,\n",
    "                    mask_union,\n",
    "                    fwhm,\n",
    "                    perturbation,\n",
    "                    index,\n",
    "                    \"significant_digits\",\n",
    "                )\n",
    "\n",
    "        # Adjust n_jobs according to ressources available\n",
    "        Parallel(n_jobs=8)(\n",
    "            delayed(compute_significant_digits)(*args)\n",
    "            for args in tqdm.tqdm(producer(), unit=\"FWHM\")\n",
    "        )"
   ]
  },
  {
   "cell_type": "code",
   "execution_count": 9,
   "metadata": {},
   "outputs": [],
   "source": [
    "def compute_sig_mean(perturbation, index, fwhm, normalized=True):\n",
    "    normalized = \"normalized\" if normalized else \"unnormalized\"\n",
    "    npz = os.path.join(\n",
    "        \"significant_digits\",\n",
    "        normalized,\n",
    "        f\"{perturbation}-Subject-{index}_FWHM-{fwhm}.npz\",\n",
    "    )\n",
    "    data = np.load(npz)\n",
    "    sig = data[\"sig\"]\n",
    "    return np.mean(sig)\n",
    "\n",
    "\n",
    "rr = {\n",
    "    index: [compute_sig_mean(\"rr\", index, i, normalized=False) for i in range(0, 21)]\n",
    "    for index in subjects_table[\"Index\"]\n",
    "}\n",
    "rs = {\n",
    "    index: [compute_sig_mean(\"rs\", index, i, normalized=False) for i in range(0, 21)]\n",
    "    for index in subjects_table[\"Index\"]\n",
    "}\n",
    "rr_norm = {\n",
    "    index: [compute_sig_mean(\"rr\", index, i, normalized=True) for i in range(0, 21)]\n",
    "    for index in subjects_table[\"Index\"]\n",
    "}\n",
    "rs_norm = {\n",
    "    index: [compute_sig_mean(\"rs\", index, i, normalized=True) for i in range(0, 21)]\n",
    "    for index in subjects_table[\"Index\"]\n",
    "}"
   ]
  },
  {
   "cell_type": "code",
   "execution_count": 20,
   "metadata": {},
   "outputs": [
    {
     "name": "stderr",
     "output_type": "stream",
     "text": [
      "\n",
      "\n",
      "\n",
      "\u001b[A\u001b[A\u001b[A\n",
      "\n",
      "\n",
      "\u001b[A\u001b[A\u001b[A\n",
      "\n",
      "\n",
      "\u001b[A\u001b[A\u001b[A\n",
      "\n",
      "\n",
      "168image [00:01, 159.53image/s]\n",
      "\n",
      "\n",
      "\n",
      "\u001b[A\u001b[A\u001b[A\n",
      "\n",
      "\n",
      "\u001b[A\u001b[A\u001b[A\n",
      "\n",
      "\n",
      "\u001b[A\u001b[A\u001b[A\n",
      "\n",
      "\n",
      "\u001b[A\u001b[A\u001b[A\n",
      "\n",
      "\n",
      "\u001b[A\u001b[A\u001b[A\n",
      "\n",
      "\n",
      "\u001b[A\u001b[A\u001b[A\n",
      "\n",
      "\n",
      "\u001b[A\u001b[A\u001b[A\n",
      "\n",
      "\n",
      "\u001b[A\u001b[A\u001b[A\n",
      "\n",
      "\n",
      "\u001b[A\u001b[A\u001b[A\n",
      "\n",
      "\n",
      "\u001b[A\u001b[A\u001b[A\n",
      "\n",
      "\n",
      "\u001b[A\u001b[A\u001b[A\n",
      "\n",
      "\n",
      "\u001b[A\u001b[A\u001b[A\n",
      "\n",
      "\n",
      "\u001b[A\u001b[A\u001b[A\n",
      "\n",
      "\n",
      "\u001b[A\u001b[A\u001b[A\n",
      "\n",
      "\n",
      "\u001b[A\u001b[A\u001b[A\n",
      "\n",
      "\n",
      "\u001b[A\u001b[A\u001b[A\n",
      "\n",
      "\n",
      "\u001b[A\u001b[A\u001b[A\n",
      "\n",
      "\n",
      "\u001b[A\u001b[A\u001b[A\n",
      "\n",
      "\n",
      "\u001b[A\u001b[A\u001b[A\n",
      "\n",
      "\n",
      "\u001b[A\u001b[A\u001b[A\n",
      "\n",
      "\n",
      "336image [02:18,  2.42image/s]\n",
      "\n",
      "\n",
      "\n",
      "\u001b[A\u001b[A\u001b[A\n",
      "\n",
      "\n",
      "\u001b[A\u001b[A\u001b[A\n",
      "\n",
      "\n",
      "\u001b[A\u001b[A\u001b[A\n",
      "\n",
      "\n",
      "\u001b[A\u001b[A\u001b[A\n",
      "\n",
      "\n",
      "\u001b[A\u001b[A\u001b[A\n",
      "\n",
      "\n",
      "\u001b[A\u001b[A\u001b[A\n",
      "\n",
      "\n",
      "\u001b[A\u001b[A\u001b[A\n",
      "\n",
      "\n",
      "\u001b[A\u001b[A\u001b[A\n",
      "\n",
      "\n",
      "\u001b[A\u001b[A\u001b[A\n",
      "\n",
      "\n",
      "\u001b[A\u001b[A\u001b[A\n",
      "\n",
      "\n",
      "\u001b[A\u001b[A\u001b[A\n",
      "\n",
      "\n",
      "\u001b[A\u001b[A\u001b[A\n",
      "\n",
      "\n",
      "\u001b[A\u001b[A\u001b[A\n",
      "\n",
      "\n",
      "\u001b[A\u001b[A\u001b[A\n",
      "\n",
      "\n",
      "\u001b[A\u001b[A\u001b[A\n",
      "\n",
      "\n",
      "\u001b[A\u001b[A\u001b[A\n",
      "\n",
      "\n",
      "\u001b[A\u001b[A\u001b[A\n",
      "\n",
      "\n",
      "\u001b[A\u001b[A\u001b[A\n",
      "\n",
      "\n",
      "\u001b[A\u001b[A\u001b[A\n",
      "\n",
      "\n",
      "\u001b[A\u001b[A\u001b[A\n",
      "\n",
      "\n",
      "336image [02:15,  2.49image/s]\n"
     ]
    }
   ],
   "source": [
    "def unmask(perturbation, index, fwhm, normalized=True):\n",
    "    normalized = \"normalized\" if normalized else \"unnormalized\"\n",
    "    npz = os.path.join(\n",
    "        \"significant_digits\",\n",
    "        normalized,\n",
    "        f\"{perturbation}-Subject-{index}_FWHM-{fwhm}.npz\",\n",
    "    )\n",
    "    data = np.load(npz, allow_pickle=True)\n",
    "    sig, mask_union = data[\"sig\"], data[\"mask\"]\n",
    "    return nilearn.masking.unmask(sig, mask_union.item())\n",
    "\n",
    "\n",
    "def view_significant_digits_brain(\n",
    "    perturbation,\n",
    "    index,\n",
    "    fwhm,\n",
    "    title=None,\n",
    "    vmax=12,\n",
    "    vmin=0,\n",
    "    discrete=False,\n",
    "    normalized=True,\n",
    "):\n",
    "    if discrete:\n",
    "        cmap = plt.colormaps.get_cmap(\"RdYlGn\").resampled(np.abs(vmax - vmin))\n",
    "    else:\n",
    "        cmap = plt.colormaps.get_cmap(\"RdYlGn\")\n",
    "    sig_img = unmask(perturbation, index, fwhm, normalized=normalized)\n",
    "    voxels = sig_img.get_fdata()\n",
    "    sig_img_thresholded = nibabel.Nifti1Image(\n",
    "        np.where(voxels <= 0, 0, voxels), sig_img.affine\n",
    "    )\n",
    "    return nilearn.plotting.view_img(\n",
    "        sig_img_thresholded,\n",
    "        cmap=cmap,\n",
    "        symmetric_cmap=False,\n",
    "        black_bg=True,\n",
    "        vmin=vmin,\n",
    "        vmax=vmax,\n",
    "        bg_img=None,\n",
    "        cut_coords=(0, 0, 0),\n",
    "        title=title,\n",
    "    )\n",
    "\n",
    "\n",
    "def plot_ieee_brain(index, fwhm):\n",
    "    output_path = os.path.join(\n",
    "        \"significant_digits\",\n",
    "        \"figures\",\n",
    "        \"ieee\",\n",
    "        f\"Subject-{index}_FWHM-{fwhm}.png\",\n",
    "    )\n",
    "    if os.path.exists(output_path):\n",
    "        return\n",
    "    if fwhm == 0:\n",
    "        fwhm = None\n",
    "    directory = f\"outputs/20.2.1/ieee\"\n",
    "    dataset, subject = get_dataset_subject(index)\n",
    "    t1w = load_T1w(directory, dataset, subject)[0]\n",
    "    brain_mask = load_brain_mask(directory, dataset, subject)[0]\n",
    "    voxel = nilearn.masking.apply_mask(t1w, brain_mask, smoothing_fwhm=fwhm)\n",
    "    t1w_masked = nilearn.masking.unmask(voxel, brain_mask)\n",
    "    return nilearn.plotting.plot_anat(\n",
    "        t1w_masked,\n",
    "        output_file=output_path,\n",
    "        cut_coords=(0, 0, 0),\n",
    "        draw_cross=False,\n",
    "        black_bg=True,\n",
    "        bg_img=None,\n",
    "    )\n",
    "\n",
    "\n",
    "def plot_significant_digits_brain(\n",
    "    perturbation,\n",
    "    index,\n",
    "    fwhm,\n",
    "    title=None,\n",
    "    vmax=12,\n",
    "    vmin=0,\n",
    "    discrete=True,\n",
    "    normalized=True,\n",
    "):\n",
    "    if discrete:\n",
    "        cmap = plt.colormaps.get_cmap(\"RdYlGn\").resampled(np.abs(vmax - vmin))\n",
    "    else:\n",
    "        cmap = plt.colormaps.get_cmap(\"RdYlGn\")\n",
    "    output_path = os.path.join(\n",
    "        \"significant_digits\",\n",
    "        \"figures\",\n",
    "        \"normalized\" if normalized else \"unnormalized\",\n",
    "        f\"{perturbation}-Subject-{index}_FWHM-{fwhm}.png\",\n",
    "    )\n",
    "    if os.path.exists(output_path):\n",
    "        return\n",
    "\n",
    "    sig_img = unmask(perturbation, index, fwhm, normalized=normalized)\n",
    "    voxels = sig_img.get_fdata()\n",
    "    sig_img_thresholded = nibabel.Nifti1Image(\n",
    "        np.where(voxels <= 0, 0, voxels), sig_img.affine\n",
    "    )\n",
    "\n",
    "    return nilearn.plotting.plot_anat(\n",
    "        sig_img_thresholded,\n",
    "        cmap=cmap,\n",
    "        # symmetric_cmap=False,\n",
    "        black_bg=True,\n",
    "        threshold=0.01,\n",
    "        vmin=vmin,\n",
    "        vmax=vmax,\n",
    "        bg_img=None,\n",
    "        cut_coords=(0, 0, 0),\n",
    "        draw_cross=False,\n",
    "        title=title,\n",
    "        output_file=output_path,\n",
    "    )\n",
    "\n",
    "\n",
    "def ieee_producer():\n",
    "    for index in subjects_table[\"Index\"]:\n",
    "        for fwhm in range(0, 21):\n",
    "            yield (index, fwhm)\n",
    "\n",
    "def producer():\n",
    "    for perturbation in [\"rr\", \"rs\"]:\n",
    "        for index in subjects_table[\"Index\"]:\n",
    "            for fwhm in range(0, 21):\n",
    "                yield (perturbation, index, fwhm)\n",
    "\n",
    "Parallel(n_jobs=16)(delayed(plot_ieee_brain)(*args) for args in tqdm.tqdm(ieee_producer(), unit=\"image\"))\n",
    "\n",
    "Parallel(n_jobs=16)(\n",
    "    delayed(plot_significant_digits_brain)(*args, discrete=True, normalized=False)\n",
    "    for args in tqdm.tqdm(producer(), unit=\"image\")\n",
    ")\n",
    "none=Parallel(n_jobs=16)(\n",
    "    delayed(plot_significant_digits_brain)(*args, discrete=True, normalized=True)\n",
    "    for args in tqdm.tqdm(producer(), unit=\"image\")\n",
    ")"
   ]
  },
  {
   "cell_type": "code",
   "execution_count": 30,
   "metadata": {},
   "outputs": [
    {
     "data": {
      "image/png": "[encoded data removed]",
      "text/plain": [
       "<Figure size 1080x1080 with 24 Axes>"
      ]
     },
     "metadata": {},
     "output_type": "display_data"
    }
   ],
   "source": [
    "import matplotlib.pyplot as plt\n",
    "\n",
    "\n",
    "def create_grid_numerical_variability(normalized, fwhm):\n",
    "    plt.close()\n",
    "    prefix = os.path.join(\"significant_digits\", \"figures\")\n",
    "    normalized = \"normalized\" if normalized else \"unnormalized\"\n",
    "\n",
    "    f, axarr = plt.subplots(\n",
    "        8,\n",
    "        3,\n",
    "        figsize=(15, 15),\n",
    "        sharex=True,\n",
    "        sharey=True,\n",
    "        gridspec_kw={\"hspace\": 0, \"wspace\": 0},\n",
    "    )\n",
    "\n",
    "    for row, index in enumerate(subjects_table[\"Index\"], start=1):\n",
    "        ieee_filename = os.path.join(prefix, \"ieee\", f\"Subject-{index}_FWHM-{fwhm}.png\")\n",
    "        rr_filename = os.path.join(\n",
    "            prefix, normalized, f\"rr-Subject-{index}_FWHM-{fwhm}.png\"\n",
    "        )\n",
    "        rs_filename = os.path.join(\n",
    "            prefix, normalized, f\"rs-Subject-{index}_FWHM-{fwhm}.png\"\n",
    "        )\n",
    "\n",
    "        ieee_img = plt.imread(ieee_filename)\n",
    "        rr_img = plt.imread(rr_filename)\n",
    "        rs_img = plt.imread(rs_filename)\n",
    "\n",
    "        axarr[row - 1, 0].set_title(f\"IEEE\")\n",
    "        axarr[row - 1, 0].tick_params(\n",
    "            axis=\"x\", bottom=False, labelbottom=False, top=False, labeltop=False\n",
    "        )\n",
    "        axarr[row - 1, 0].tick_params(\n",
    "            axis=\"y\", right=False, labelright=False, left=False, labelleft=False\n",
    "        )\n",
    "        axarr[row - 1, 1].set_title(f\"RR\")\n",
    "        axarr[row - 1, 1].tick_params(\n",
    "            axis=\"x\", bottom=False, labelbottom=False, top=False, labeltop=False\n",
    "        )\n",
    "        axarr[row - 1, 2].set_title(f\"RS\")\n",
    "        axarr[row - 1, 2].tick_params(\n",
    "            axis=\"x\", bottom=False, labelbottom=False, top=False, labeltop=False\n",
    "        )\n",
    "\n",
    "        axarr[row - 1, 0].imshow(ieee_img)\n",
    "        axarr[row - 1, 1].imshow(rr_img)\n",
    "        axarr[row - 1, 2].imshow(rs_img)\n",
    "\n",
    "    plt.subplots_adjust(wspace=0, hspace=0)\n",
    "    \n",
    "create_grid_numerical_variability(normalized=True, fwhm=15)"
   ]
  },
  {
   "cell_type": "markdown",
   "metadata": {},
   "source": [
    "## Figure 3: Numerical variability measured for subjects 1 to 8 (from top to bottom) across n=30 perturbed samples, with FWHM = 15 mm."
   ]
  },
  {
   "cell_type": "code",
   "execution_count": 25,
   "metadata": {},
   "outputs": [
    {
     "data": {
      "image/png": "[encoded data removed]",
      "text/plain": [
       "<Figure size 1080x1080 with 24 Axes>"
      ]
     },
     "metadata": {},
     "output_type": "display_data"
    }
   ],
   "source": [
    "create_grid_numerical_variability(normalized=True, fwhm=0)"
   ]
  },
  {
   "cell_type": "markdown",
   "metadata": {},
   "source": [
    "## Figure 3: Numerical variability measured for subjects 1 to 8 (from top to bottom) across n=30 perturbed samples, with FWHM=0mm. "
   ]
  },
  {
   "cell_type": "code",
   "execution_count": 16,
   "metadata": {},
   "outputs": [],
   "source": [
    "plot_significant_digits_brain('rr', 2, 15, title='Subject 1, FWHM 0', normalized=False)"
   ]
  },
  {
   "cell_type": "code",
   "execution_count": 32,
   "metadata": {},
   "outputs": [],
   "source": [
    "def plot_significant_digits(sig_data, title):\n",
    "    sig_min = min(min(v) for v in rr.values())\n",
    "    sig_max = max(max(v) for v in rr.values())\n",
    "    fig = px.line(sig_data, markers=True, title=title)\n",
    "    fig.update_xaxes(title=\"FWHM (mm)\")\n",
    "    fig.update_yaxes(title=\"Significant bits\")\n",
    "    fig.update_legends(title=\"Subjects\")\n",
    "    fig.add_hline(y=sig_min, line_dash=\"dot\", line_color=\"black\", opacity=0.5, annotation_text=f\"{sig_min:.2f}\")\n",
    "    fig.add_hline(y=sig_max, line_dash=\"dot\", line_color=\"black\", opacity=0.5, annotation_text=f\"{sig_max:.2f}\")    \n",
    "    return fig"
   ]
  },
  {
   "cell_type": "markdown",
   "metadata": {},
   "source": [
    "## Figure 2: Voxel-wise means of significant bits measured across n=30 perturbed samples for RR and RS perturbations and 8 subjects"
   ]
  },
  {
   "cell_type": "code",
   "execution_count": 33,
   "metadata": {},
   "outputs": [
    {
     "data": {
      "application/vnd.plotly.v1+json": {
       "config": {
        "plotlyServerURL": "https://plot.ly"
       },
       "data": [
        {
         "hovertemplate": "variable=1<br>index=%{x}<br>value=%{y}<extra></extra>",
         "legendgroup": "1",
         "line": {
          "color": "#636efa",
          "dash": "solid"
         },
         "marker": {
          "symbol": "circle"
         },
         "mode": "lines+markers",
         "name": "1",
         "orientation": "v",
         "showlegend": true,
         "type": "scatter",
         "x": [
          0,
          1,
          2,
          3,
          4,
          5,
          6,
          7,
          8,
          9,
          10,
          11,
          12,
          13,
          14,
          15,
          16,
          17,
          18,
          19,
          20
         ],
         "xaxis": "x",
         "y": [
          3.658624402424652,
          4.062705965141672,
          3.240314322188241,
          3.05806232584613,
          2.803183530655242,
          2.77511962136068,
          2.895322143034543,
          3.188274363428544,
          3.799403675629628,
          4.604416387933749,
          6.246075741284867,
          8.300465170476883,
          8.160968661962215,
          8.050439854200729,
          8.050252059951609,
          8.053157261823298,
          8.117111112550672,
          8.182395536046405,
          8.214332234783097,
          8.147553704637048,
          7.301473738647831
         ],
         "yaxis": "y"
        },
        {
         "hovertemplate": "variable=2<br>index=%{x}<br>value=%{y}<extra></extra>",
         "legendgroup": "2",
         "line": {
          "color": "#EF553B",
          "dash": "solid"
         },
         "marker": {
          "symbol": "circle"
         },
         "mode": "lines+markers",
         "name": "2",
         "orientation": "v",
         "showlegend": true,
         "type": "scatter",
         "x": [
          0,
          1,
          2,
          3,
          4,
          5,
          6,
          7,
          8,
          9,
          10,
          11,
          12,
          13,
          14,
          15,
          16,
          17,
          18,
          19,
          20
         ],
         "xaxis": "x",
         "y": [
          2.756291067108165,
          3.322044540752816,
          2.916819286351399,
          3.553919910188163,
          4.881766859265802,
          4.744047879330861,
          4.679985659256176,
          4.705593965418485,
          4.767798151620544,
          4.849892102011862,
          5.042009419053147,
          5.260895202992842,
          5.6325492614356705,
          5.938355088411155,
          6.027110695907967,
          6.108211442827085,
          6.1724069066616964,
          6.225441238642488,
          5.7944940773033835,
          4.91784149499275,
          4.925796679970454
         ],
         "yaxis": "y"
        },
        {
         "hovertemplate": "variable=3<br>index=%{x}<br>value=%{y}<extra></extra>",
         "legendgroup": "3",
         "line": {
          "color": "#00cc96",
          "dash": "solid"
         },
         "marker": {
          "symbol": "circle"
         },
         "mode": "lines+markers",
         "name": "3",
         "orientation": "v",
         "showlegend": true,
         "type": "scatter",
         "x": [
          0,
          1,
          2,
          3,
          4,
          5,
          6,
          7,
          8,
          9,
          10,
          11,
          12,
          13,
          14,
          15,
          16,
          17,
          18,
          19,
          20
         ],
         "xaxis": "x",
         "y": [
          4.336473983686284,
          4.312853726451775,
          3.920518729834568,
          5.829082821461206,
          7.051088290890837,
          7.159103292382481,
          7.106321138540374,
          7.02898384165775,
          7.186533610730904,
          7.334260784823471,
          7.445236074043708,
          7.545548597880586,
          7.494126185185141,
          7.543844898577786,
          7.641150688646549,
          7.737334374742437,
          7.688706872166253,
          7.644824182420297,
          7.616047942079616,
          7.602847680042565,
          7.604761284343318
         ],
         "yaxis": "y"
        },
        {
         "hovertemplate": "variable=4<br>index=%{x}<br>value=%{y}<extra></extra>",
         "legendgroup": "4",
         "line": {
          "color": "#ab63fa",
          "dash": "solid"
         },
         "marker": {
          "symbol": "circle"
         },
         "mode": "lines+markers",
         "name": "4",
         "orientation": "v",
         "showlegend": true,
         "type": "scatter",
         "x": [
          0,
          1,
          2,
          3,
          4,
          5,
          6,
          7,
          8,
          9,
          10,
          11,
          12,
          13,
          14,
          15,
          16,
          17,
          18,
          19,
          20
         ],
         "xaxis": "x",
         "y": [
          3.8509275138034824,
          3.7459276930635417,
          5.210376248743717,
          6.231874908392074,
          6.359839851623695,
          7.034270252974826,
          7.207916507895987,
          7.498258741112023,
          7.564599491294441,
          7.634398573781917,
          7.648276404524028,
          7.613838800770188,
          7.318979489135967,
          7.206418730515561,
          6.670770249291384,
          6.754771403974383,
          6.828789255520608,
          6.890478529415907,
          6.9440812617720615,
          6.990733229065217,
          7.02991542172058
         ],
         "yaxis": "y"
        },
        {
         "hovertemplate": "variable=5<br>index=%{x}<br>value=%{y}<extra></extra>",
         "legendgroup": "5",
         "line": {
          "color": "#FFA15A",
          "dash": "solid"
         },
         "marker": {
          "symbol": "circle"
         },
         "mode": "lines+markers",
         "name": "5",
         "orientation": "v",
         "showlegend": true,
         "type": "scatter",
         "x": [
          0,
          1,
          2,
          3,
          4,
          5,
          6,
          7,
          8,
          9,
          10,
          11,
          12,
          13,
          14,
          15,
          16,
          17,
          18,
          19,
          20
         ],
         "xaxis": "x",
         "y": [
          4.739033306404613,
          4.619072129422208,
          6.946045605074229,
          7.487674428265564,
          7.75569840474448,
          7.857979033739156,
          7.907340557925442,
          8.40169230916841,
          8.442150428116824,
          8.4543768894737,
          7.263657311726262,
          7.352872987258097,
          6.745836129585741,
          6.521621710218689,
          6.652956455419507,
          6.759924154588974,
          6.778606739169323,
          6.757888565059069,
          6.664495860425715,
          6.780997861204135,
          6.905632797748909
         ],
         "yaxis": "y"
        },
        {
         "hovertemplate": "variable=6<br>index=%{x}<br>value=%{y}<extra></extra>",
         "legendgroup": "6",
         "line": {
          "color": "#19d3f3",
          "dash": "solid"
         },
         "marker": {
          "symbol": "circle"
         },
         "mode": "lines+markers",
         "name": "6",
         "orientation": "v",
         "showlegend": true,
         "type": "scatter",
         "x": [
          0,
          1,
          2,
          3,
          4,
          5,
          6,
          7,
          8,
          9,
          10,
          11,
          12,
          13,
          14,
          15,
          16,
          17,
          18,
          19,
          20
         ],
         "xaxis": "x",
         "y": [
          4.300858804487125,
          5.136479024920537,
          7.026358582195338,
          7.074116841198147,
          6.212913307272347,
          6.367272847820031,
          6.640473036794525,
          6.770586524773652,
          7.065255466606974,
          7.594928630682802,
          7.472369362849359,
          7.3996841894257726,
          7.345403630923637,
          6.895121920660579,
          6.538836178944877,
          6.693335604004174,
          6.861480941177434,
          7.022772863646162,
          7.175595875564189,
          7.31835736446348,
          7.450947950285839
         ],
         "yaxis": "y"
        },
        {
         "hovertemplate": "variable=7<br>index=%{x}<br>value=%{y}<extra></extra>",
         "legendgroup": "7",
         "line": {
          "color": "#FF6692",
          "dash": "solid"
         },
         "marker": {
          "symbol": "circle"
         },
         "mode": "lines+markers",
         "name": "7",
         "orientation": "v",
         "showlegend": true,
         "type": "scatter",
         "x": [
          0,
          1,
          2,
          3,
          4,
          5,
          6,
          7,
          8,
          9,
          10,
          11,
          12,
          13,
          14,
          15,
          16,
          17,
          18,
          19,
          20
         ],
         "xaxis": "x",
         "y": [
          3.310244490118757,
          3.322433161619426,
          4.650501957560207,
          3.3211302028095635,
          3.65044894115565,
          4.527608489365868,
          4.811754098105194,
          4.978356973059344,
          5.194244995281867,
          5.453688829381391,
          5.666790498143009,
          5.889449289910207,
          5.897738110970293,
          5.780622255078623,
          5.939000249138374,
          6.083955262090886,
          6.214540391927982,
          6.331370745471605,
          6.420636014684415,
          6.406300186960273,
          6.469577150250223
         ],
         "yaxis": "y"
        },
        {
         "hovertemplate": "variable=8<br>index=%{x}<br>value=%{y}<extra></extra>",
         "legendgroup": "8",
         "line": {
          "color": "#B6E880",
          "dash": "solid"
         },
         "marker": {
          "symbol": "circle"
         },
         "mode": "lines+markers",
         "name": "8",
         "orientation": "v",
         "showlegend": true,
         "type": "scatter",
         "x": [
          0,
          1,
          2,
          3,
          4,
          5,
          6,
          7,
          8,
          9,
          10,
          11,
          12,
          13,
          14,
          15,
          16,
          17,
          18,
          19,
          20
         ],
         "xaxis": "x",
         "y": [
          3.757556641559485,
          2.8170555876384444,
          2.8900271213640267,
          3.445492220288119,
          3.7223378532675073,
          4.0987330596895095,
          4.38384882711479,
          4.8724890299819394,
          5.1235066217638,
          5.204676605323026,
          5.30169526412278,
          5.4091428860244815,
          5.510944452242371,
          5.5964913554520885,
          5.61743790228421,
          5.734929193045185,
          5.826969784694308,
          5.912615450814905,
          5.990619579199958,
          6.047743802054434,
          6.093841828540735
         ],
         "yaxis": "y"
        }
       ],
       "layout": {
        "annotations": [
         {
          "showarrow": false,
          "text": "2.76",
          "x": 1,
          "xanchor": "right",
          "xref": "x domain",
          "y": 2.756291067108165,
          "yanchor": "bottom",
          "yref": "y"
         },
         {
          "showarrow": false,
          "text": "8.45",
          "x": 1,
          "xanchor": "right",
          "xref": "x domain",
          "y": 8.4543768894737,
          "yanchor": "bottom",
          "yref": "y"
         }
        ],
        "legend": {
         "title": {
          "text": "Subjects"
         },
         "tracegroupgap": 0
        },
        "shapes": [
         {
          "line": {
           "color": "black",
           "dash": "dot"
          },
          "opacity": 0.5,
          "type": "line",
          "x0": 0,
          "x1": 1,
          "xref": "x domain",
          "y0": 2.756291067108165,
          "y1": 2.756291067108165,
          "yref": "y"
         },
         {
          "line": {
           "color": "black",
           "dash": "dot"
          },
          "opacity": 0.5,
          "type": "line",
          "x0": 0,
          "x1": 1,
          "xref": "x domain",
          "y0": 8.4543768894737,
          "y1": 8.4543768894737,
          "yref": "y"
         }
        ],
        "template": {
         "data": {
          "bar": [
           {
            "error_x": {
             "color": "#2a3f5f"
            },
            "error_y": {
             "color": "#2a3f5f"
            },
            "marker": {
             "line": {
              "color": "#E5ECF6",
              "width": 0.5
             },
             "pattern": {
              "fillmode": "overlay",
              "size": 10,
              "solidity": 0.2
             }
            },
            "type": "bar"
           }
          ],
          "barpolar": [
           {
            "marker": {
             "line": {
              "color": "#E5ECF6",
              "width": 0.5
             },
             "pattern": {
              "fillmode": "overlay",
              "size": 10,
              "solidity": 0.2
             }
            },
            "type": "barpolar"
           }
          ],
          "carpet": [
           {
            "aaxis": {
             "endlinecolor": "#2a3f5f",
             "gridcolor": "white",
             "linecolor": "white",
             "minorgridcolor": "white",
             "startlinecolor": "#2a3f5f"
            },
            "baxis": {
             "endlinecolor": "#2a3f5f",
             "gridcolor": "white",
             "linecolor": "white",
             "minorgridcolor": "white",
             "startlinecolor": "#2a3f5f"
            },
            "type": "carpet"
           }
          ],
          "choropleth": [
           {
            "colorbar": {
             "outlinewidth": 0,
             "ticks": ""
            },
            "type": "choropleth"
           }
          ],
          "contour": [
           {
            "colorbar": {
             "outlinewidth": 0,
             "ticks": ""
            },
            "colorscale": [
             [
              0,
              "#0d0887"
             ],
             [
              0.1111111111111111,
              "#46039f"
             ],
             [
              0.2222222222222222,
              "#7201a8"
             ],
             [
              0.3333333333333333,
              "#9c179e"
             ],
             [
              0.4444444444444444,
              "#bd3786"
             ],
             [
              0.5555555555555556,
              "#d8576b"
             ],
             [
              0.6666666666666666,
              "#ed7953"
             ],
             [
              0.7777777777777778,
              "#fb9f3a"
             ],
             [
              0.8888888888888888,
              "#fdca26"
             ],
             [
              1,
              "#f0f921"
             ]
            ],
            "type": "contour"
           }
          ],
          "contourcarpet": [
           {
            "colorbar": {
             "outlinewidth": 0,
             "ticks": ""
            },
            "type": "contourcarpet"
           }
          ],
          "heatmap": [
           {
            "colorbar": {
             "outlinewidth": 0,
             "ticks": ""
            },
            "colorscale": [
             [
              0,
              "#0d0887"
             ],
             [
              0.1111111111111111,
              "#46039f"
             ],
             [
              0.2222222222222222,
              "#7201a8"
             ],
             [
              0.3333333333333333,
              "#9c179e"
             ],
             [
              0.4444444444444444,
              "#bd3786"
             ],
             [
              0.5555555555555556,
              "#d8576b"
             ],
             [
              0.6666666666666666,
              "#ed7953"
             ],
             [
              0.7777777777777778,
              "#fb9f3a"
             ],
             [
              0.8888888888888888,
              "#fdca26"
             ],
             [
              1,
              "#f0f921"
             ]
            ],
            "type": "heatmap"
           }
          ],
          "heatmapgl": [
           {
            "colorbar": {
             "outlinewidth": 0,
             "ticks": ""
            },
            "colorscale": [
             [
              0,
              "#0d0887"
             ],
             [
              0.1111111111111111,
              "#46039f"
             ],
             [
              0.2222222222222222,
              "#7201a8"
             ],
             [
              0.3333333333333333,
              "#9c179e"
             ],
             [
              0.4444444444444444,
              "#bd3786"
             ],
             [
              0.5555555555555556,
              "#d8576b"
             ],
             [
              0.6666666666666666,
              "#ed7953"
             ],
             [
              0.7777777777777778,
              "#fb9f3a"
             ],
             [
              0.8888888888888888,
              "#fdca26"
             ],
             [
              1,
              "#f0f921"
             ]
            ],
            "type": "heatmapgl"
           }
          ],
          "histogram": [
           {
            "marker": {
             "pattern": {
              "fillmode": "overlay",
              "size": 10,
              "solidity": 0.2
             }
            },
            "type": "histogram"
           }
          ],
          "histogram2d": [
           {
            "colorbar": {
             "outlinewidth": 0,
             "ticks": ""
            },
            "colorscale": [
             [
              0,
              "#0d0887"
             ],
             [
              0.1111111111111111,
              "#46039f"
             ],
             [
              0.2222222222222222,
              "#7201a8"
             ],
             [
              0.3333333333333333,
              "#9c179e"
             ],
             [
              0.4444444444444444,
              "#bd3786"
             ],
             [
              0.5555555555555556,
              "#d8576b"
             ],
             [
              0.6666666666666666,
              "#ed7953"
             ],
             [
              0.7777777777777778,
              "#fb9f3a"
             ],
             [
              0.8888888888888888,
              "#fdca26"
             ],
             [
              1,
              "#f0f921"
             ]
            ],
            "type": "histogram2d"
           }
          ],
          "histogram2dcontour": [
           {
            "colorbar": {
             "outlinewidth": 0,
             "ticks": ""
            },
            "colorscale": [
             [
              0,
              "#0d0887"
             ],
             [
              0.1111111111111111,
              "#46039f"
             ],
             [
              0.2222222222222222,
              "#7201a8"
             ],
             [
              0.3333333333333333,
              "#9c179e"
             ],
             [
              0.4444444444444444,
              "#bd3786"
             ],
             [
              0.5555555555555556,
              "#d8576b"
             ],
             [
              0.6666666666666666,
              "#ed7953"
             ],
             [
              0.7777777777777778,
              "#fb9f3a"
             ],
             [
              0.8888888888888888,
              "#fdca26"
             ],
             [
              1,
              "#f0f921"
             ]
            ],
            "type": "histogram2dcontour"
           }
          ],
          "mesh3d": [
           {
            "colorbar": {
             "outlinewidth": 0,
             "ticks": ""
            },
            "type": "mesh3d"
           }
          ],
          "parcoords": [
           {
            "line": {
             "colorbar": {
              "outlinewidth": 0,
              "ticks": ""
             }
            },
            "type": "parcoords"
           }
          ],
          "pie": [
           {
            "automargin": true,
            "type": "pie"
           }
          ],
          "scatter": [
           {
            "fillpattern": {
             "fillmode": "overlay",
             "size": 10,
             "solidity": 0.2
            },
            "type": "scatter"
           }
          ],
          "scatter3d": [
           {
            "line": {
             "colorbar": {
              "outlinewidth": 0,
              "ticks": ""
             }
            },
            "marker": {
             "colorbar": {
              "outlinewidth": 0,
              "ticks": ""
             }
            },
            "type": "scatter3d"
           }
          ],
          "scattercarpet": [
           {
            "marker": {
             "colorbar": {
              "outlinewidth": 0,
              "ticks": ""
             }
            },
            "type": "scattercarpet"
           }
          ],
          "scattergeo": [
           {
            "marker": {
             "colorbar": {
              "outlinewidth": 0,
              "ticks": ""
             }
            },
            "type": "scattergeo"
           }
          ],
          "scattergl": [
           {
            "marker": {
             "colorbar": {
              "outlinewidth": 0,
              "ticks": ""
             }
            },
            "type": "scattergl"
           }
          ],
          "scattermapbox": [
           {
            "marker": {
             "colorbar": {
              "outlinewidth": 0,
              "ticks": ""
             }
            },
            "type": "scattermapbox"
           }
          ],
          "scatterpolar": [
           {
            "marker": {
             "colorbar": {
              "outlinewidth": 0,
              "ticks": ""
             }
            },
            "type": "scatterpolar"
           }
          ],
          "scatterpolargl": [
           {
            "marker": {
             "colorbar": {
              "outlinewidth": 0,
              "ticks": ""
             }
            },
            "type": "scatterpolargl"
           }
          ],
          "scatterternary": [
           {
            "marker": {
             "colorbar": {
              "outlinewidth": 0,
              "ticks": ""
             }
            },
            "type": "scatterternary"
           }
          ],
          "surface": [
           {
            "colorbar": {
             "outlinewidth": 0,
             "ticks": ""
            },
            "colorscale": [
             [
              0,
              "#0d0887"
             ],
             [
              0.1111111111111111,
              "#46039f"
             ],
             [
              0.2222222222222222,
              "#7201a8"
             ],
             [
              0.3333333333333333,
              "#9c179e"
             ],
             [
              0.4444444444444444,
              "#bd3786"
             ],
             [
              0.5555555555555556,
              "#d8576b"
             ],
             [
              0.6666666666666666,
              "#ed7953"
             ],
             [
              0.7777777777777778,
              "#fb9f3a"
             ],
             [
              0.8888888888888888,
              "#fdca26"
             ],
             [
              1,
              "#f0f921"
             ]
            ],
            "type": "surface"
           }
          ],
          "table": [
           {
            "cells": {
             "fill": {
              "color": "#EBF0F8"
             },
             "line": {
              "color": "white"
             }
            },
            "header": {
             "fill": {
              "color": "#C8D4E3"
             },
             "line": {
              "color": "white"
             }
            },
            "type": "table"
           }
          ]
         },
         "layout": {
          "annotationdefaults": {
           "arrowcolor": "#2a3f5f",
           "arrowhead": 0,
           "arrowwidth": 1
          },
          "autotypenumbers": "strict",
          "coloraxis": {
           "colorbar": {
            "outlinewidth": 0,
            "ticks": ""
           }
          },
          "colorscale": {
           "diverging": [
            [
             0,
             "#8e0152"
            ],
            [
             0.1,
             "#c51b7d"
            ],
            [
             0.2,
             "#de77ae"
            ],
            [
             0.3,
             "#f1b6da"
            ],
            [
             0.4,
             "#fde0ef"
            ],
            [
             0.5,
             "#f7f7f7"
            ],
            [
             0.6,
             "#e6f5d0"
            ],
            [
             0.7,
             "#b8e186"
            ],
            [
             0.8,
             "#7fbc41"
            ],
            [
             0.9,
             "#4d9221"
            ],
            [
             1,
             "#276419"
            ]
           ],
           "sequential": [
            [
             0,
             "#0d0887"
            ],
            [
             0.1111111111111111,
             "#46039f"
            ],
            [
             0.2222222222222222,
             "#7201a8"
            ],
            [
             0.3333333333333333,
             "#9c179e"
            ],
            [
             0.4444444444444444,
             "#bd3786"
            ],
            [
             0.5555555555555556,
             "#d8576b"
            ],
            [
             0.6666666666666666,
             "#ed7953"
            ],
            [
             0.7777777777777778,
             "#fb9f3a"
            ],
            [
             0.8888888888888888,
             "#fdca26"
            ],
            [
             1,
             "#f0f921"
            ]
           ],
           "sequentialminus": [
            [
             0,
             "#0d0887"
            ],
            [
             0.1111111111111111,
             "#46039f"
            ],
            [
             0.2222222222222222,
             "#7201a8"
            ],
            [
             0.3333333333333333,
             "#9c179e"
            ],
            [
             0.4444444444444444,
             "#bd3786"
            ],
            [
             0.5555555555555556,
             "#d8576b"
            ],
            [
             0.6666666666666666,
             "#ed7953"
            ],
            [
             0.7777777777777778,
             "#fb9f3a"
            ],
            [
             0.8888888888888888,
             "#fdca26"
            ],
            [
             1,
             "#f0f921"
            ]
           ]
          },
          "colorway": [
           "#636efa",
           "#EF553B",
           "#00cc96",
           "#ab63fa",
           "#FFA15A",
           "#19d3f3",
           "#FF6692",
           "#B6E880",
           "#FF97FF",
           "#FECB52"
          ],
          "font": {
           "color": "#2a3f5f"
          },
          "geo": {
           "bgcolor": "white",
           "lakecolor": "white",
           "landcolor": "#E5ECF6",
           "showlakes": true,
           "showland": true,
           "subunitcolor": "white"
          },
          "hoverlabel": {
           "align": "left"
          },
          "hovermode": "closest",
          "mapbox": {
           "style": "light"
          },
          "paper_bgcolor": "white",
          "plot_bgcolor": "#E5ECF6",
          "polar": {
           "angularaxis": {
            "gridcolor": "white",
            "linecolor": "white",
            "ticks": ""
           },
           "bgcolor": "#E5ECF6",
           "radialaxis": {
            "gridcolor": "white",
            "linecolor": "white",
            "ticks": ""
           }
          },
          "scene": {
           "xaxis": {
            "backgroundcolor": "#E5ECF6",
            "gridcolor": "white",
            "gridwidth": 2,
            "linecolor": "white",
            "showbackground": true,
            "ticks": "",
            "zerolinecolor": "white"
           },
           "yaxis": {
            "backgroundcolor": "#E5ECF6",
            "gridcolor": "white",
            "gridwidth": 2,
            "linecolor": "white",
            "showbackground": true,
            "ticks": "",
            "zerolinecolor": "white"
           },
           "zaxis": {
            "backgroundcolor": "#E5ECF6",
            "gridcolor": "white",
            "gridwidth": 2,
            "linecolor": "white",
            "showbackground": true,
            "ticks": "",
            "zerolinecolor": "white"
           }
          },
          "shapedefaults": {
           "line": {
            "color": "#2a3f5f"
           }
          },
          "ternary": {
           "aaxis": {
            "gridcolor": "white",
            "linecolor": "white",
            "ticks": ""
           },
           "baxis": {
            "gridcolor": "white",
            "linecolor": "white",
            "ticks": ""
           },
           "bgcolor": "#E5ECF6",
           "caxis": {
            "gridcolor": "white",
            "linecolor": "white",
            "ticks": ""
           }
          },
          "title": {
           "x": 0.05
          },
          "xaxis": {
           "automargin": true,
           "gridcolor": "white",
           "linecolor": "white",
           "ticks": "",
           "title": {
            "standoff": 15
           },
           "zerolinecolor": "white",
           "zerolinewidth": 2
          },
          "yaxis": {
           "automargin": true,
           "gridcolor": "white",
           "linecolor": "white",
           "ticks": "",
           "title": {
            "standoff": 15
           },
           "zerolinecolor": "white",
           "zerolinewidth": 2
          }
         }
        },
        "title": {
         "text": "RR"
        },
        "xaxis": {
         "anchor": "y",
         "domain": [
          0,
          1
         ],
         "title": {
          "text": "FWHM (mm)"
         }
        },
        "yaxis": {
         "anchor": "x",
         "domain": [
          0,
          1
         ],
         "title": {
          "text": "Significant bits"
         }
        }
       }
      }
     },
     "metadata": {},
     "output_type": "display_data"
    }
   ],
   "source": [
    "## Figure 2: Voxel-wise means of significant bits measured across n=30 perturbed samples for RR and RS perturbations and 8 subjectssignificant_digits(rr, \"RR\")\n",
    "plot_significant_digits(rr, \"RR\")"
   ]
  },
  {
   "cell_type": "code",
   "execution_count": 34,
   "metadata": {},
   "outputs": [
    {
     "data": {
      "application/vnd.plotly.v1+json": {
       "config": {
        "plotlyServerURL": "https://plot.ly"
       },
       "data": [
        {
         "hovertemplate": "variable=1<br>index=%{x}<br>value=%{y}<extra></extra>",
         "legendgroup": "1",
         "line": {
          "color": "#636efa",
          "dash": "solid"
         },
         "marker": {
          "symbol": "circle"
         },
         "mode": "lines+markers",
         "name": "1",
         "orientation": "v",
         "showlegend": true,
         "type": "scatter",
         "x": [
          0,
          1,
          2,
          3,
          4,
          5,
          6,
          7,
          8,
          9,
          10,
          11,
          12,
          13,
          14,
          15,
          16,
          17,
          18,
          19,
          20
         ],
         "xaxis": "x",
         "y": [
          4.263935702174147,
          4.4901667508992125,
          6.8997363913223575,
          5.72070851354596,
          4.243453394159576,
          3.958301243882731,
          4.019553501967828,
          4.371841751178899,
          5.315308487486404,
          7.325587625799056,
          7.856519748994124,
          7.66814793330811,
          7.543414127802495,
          7.471851898861133,
          7.472831322094429,
          7.50326411305736,
          7.4964453161478355,
          7.5968956644655234,
          7.359491816955318,
          6.963483667507566,
          7.032782901988069
         ],
         "yaxis": "y"
        },
        {
         "hovertemplate": "variable=2<br>index=%{x}<br>value=%{y}<extra></extra>",
         "legendgroup": "2",
         "line": {
          "color": "#EF553B",
          "dash": "solid"
         },
         "marker": {
          "symbol": "circle"
         },
         "mode": "lines+markers",
         "name": "2",
         "orientation": "v",
         "showlegend": true,
         "type": "scatter",
         "x": [
          0,
          1,
          2,
          3,
          4,
          5,
          6,
          7,
          8,
          9,
          10,
          11,
          12,
          13,
          14,
          15,
          16,
          17,
          18,
          19,
          20
         ],
         "xaxis": "x",
         "y": [
          2.7996643940988504,
          3.2135710970634066,
          3.0766475960837876,
          3.5140206952880657,
          4.2751273150082545,
          4.209388630925465,
          4.136640152070426,
          4.190161416652459,
          4.431155007284975,
          4.594743237860651,
          4.744768575448608,
          4.965601227219234,
          5.296855129722463,
          5.495742511602883,
          5.6603329280881125,
          5.743614007098961,
          5.803830084543777,
          5.846931190524528,
          5.872958955372854,
          4.890754368021644,
          4.356414026883696
         ],
         "yaxis": "y"
        },
        {
         "hovertemplate": "variable=3<br>index=%{x}<br>value=%{y}<extra></extra>",
         "legendgroup": "3",
         "line": {
          "color": "#00cc96",
          "dash": "solid"
         },
         "marker": {
          "symbol": "circle"
         },
         "mode": "lines+markers",
         "name": "3",
         "orientation": "v",
         "showlegend": true,
         "type": "scatter",
         "x": [
          0,
          1,
          2,
          3,
          4,
          5,
          6,
          7,
          8,
          9,
          10,
          11,
          12,
          13,
          14,
          15,
          16,
          17,
          18,
          19,
          20
         ],
         "xaxis": "x",
         "y": [
          4.510608771262683,
          4.268575580788925,
          4.300768029664729,
          6.52135803703989,
          6.39645375952613,
          6.346429692189578,
          6.290014378977676,
          6.221585758029805,
          6.773414594228615,
          7.479887212364814,
          7.453678901946219,
          7.532706452472256,
          7.7042842602834565,
          7.756627623596625,
          7.8450419941401845,
          7.961231687472732,
          7.868803263907957,
          7.7555019866591355,
          7.683796151996048,
          7.621912818747704,
          7.5748406261304035
         ],
         "yaxis": "y"
        },
        {
         "hovertemplate": "variable=4<br>index=%{x}<br>value=%{y}<extra></extra>",
         "legendgroup": "4",
         "line": {
          "color": "#ab63fa",
          "dash": "solid"
         },
         "marker": {
          "symbol": "circle"
         },
         "mode": "lines+markers",
         "name": "4",
         "orientation": "v",
         "showlegend": true,
         "type": "scatter",
         "x": [
          0,
          1,
          2,
          3,
          4,
          5,
          6,
          7,
          8,
          9,
          10,
          11,
          12,
          13,
          14,
          15,
          16,
          17,
          18,
          19,
          20
         ],
         "xaxis": "x",
         "y": [
          4.589404023331115,
          4.572102037132377,
          6.024358090440807,
          6.169544025842182,
          6.3652653984646905,
          7.1129510740337025,
          7.338226235213818,
          7.681199392778328,
          7.742352519762083,
          7.797259469383578,
          7.80233170984163,
          7.77832155681354,
          7.559981110939583,
          7.582228320034338,
          7.1574304799402,
          7.170739555683313,
          7.218904139800438,
          7.279958772514674,
          7.327585091845901,
          7.361387342567221,
          7.381768941872712
         ],
         "yaxis": "y"
        },
        {
         "hovertemplate": "variable=5<br>index=%{x}<br>value=%{y}<extra></extra>",
         "legendgroup": "5",
         "line": {
          "color": "#FFA15A",
          "dash": "solid"
         },
         "marker": {
          "symbol": "circle"
         },
         "mode": "lines+markers",
         "name": "5",
         "orientation": "v",
         "showlegend": true,
         "type": "scatter",
         "x": [
          0,
          1,
          2,
          3,
          4,
          5,
          6,
          7,
          8,
          9,
          10,
          11,
          12,
          13,
          14,
          15,
          16,
          17,
          18,
          19,
          20
         ],
         "xaxis": "x",
         "y": [
          5.080413810040416,
          4.401302410054079,
          5.945797161305982,
          7.480665461051985,
          7.519164618625983,
          7.4564385865497025,
          7.5802290395063965,
          8.31148699472276,
          8.358163551914524,
          8.369558324392022,
          7.002124434321966,
          6.873415279095195,
          6.679124791901467,
          6.1350836974818685,
          6.207879979796734,
          6.286048392376198,
          6.342305668406636,
          6.3908786647830285,
          6.454656676338981,
          6.560608518188905,
          6.723705162817682
         ],
         "yaxis": "y"
        },
        {
         "hovertemplate": "variable=6<br>index=%{x}<br>value=%{y}<extra></extra>",
         "legendgroup": "6",
         "line": {
          "color": "#19d3f3",
          "dash": "solid"
         },
         "marker": {
          "symbol": "circle"
         },
         "mode": "lines+markers",
         "name": "6",
         "orientation": "v",
         "showlegend": true,
         "type": "scatter",
         "x": [
          0,
          1,
          2,
          3,
          4,
          5,
          6,
          7,
          8,
          9,
          10,
          11,
          12,
          13,
          14,
          15,
          16,
          17,
          18,
          19,
          20
         ],
         "xaxis": "x",
         "y": [
          4.222893417917667,
          4.962029433890251,
          7.016468633587409,
          7.196545043183196,
          6.541551047708751,
          6.900813341345999,
          6.544714736443342,
          6.840265119786088,
          6.856375012052349,
          7.037502534173296,
          7.234000439222704,
          6.657440096268895,
          6.303324834704884,
          6.2810066126418045,
          6.503409231175953,
          6.699844924683959,
          6.886597509690619,
          7.066267353618555,
          7.244912390503429,
          7.419562293449125,
          7.57710633091555
         ],
         "yaxis": "y"
        },
        {
         "hovertemplate": "variable=7<br>index=%{x}<br>value=%{y}<extra></extra>",
         "legendgroup": "7",
         "line": {
          "color": "#FF6692",
          "dash": "solid"
         },
         "marker": {
          "symbol": "circle"
         },
         "mode": "lines+markers",
         "name": "7",
         "orientation": "v",
         "showlegend": true,
         "type": "scatter",
         "x": [
          0,
          1,
          2,
          3,
          4,
          5,
          6,
          7,
          8,
          9,
          10,
          11,
          12,
          13,
          14,
          15,
          16,
          17,
          18,
          19,
          20
         ],
         "xaxis": "x",
         "y": [
          2.6448093383721254,
          2.4954508081174205,
          4.075621345184449,
          4.070760134605515,
          4.351211657307649,
          4.648395563162833,
          4.75706747465145,
          5.210932861903718,
          5.5193076890299455,
          5.777492823477967,
          6.004554406938029,
          6.11996785217112,
          6.218676928192341,
          6.296895175387528,
          6.3650465800705875,
          6.382125944736518,
          6.471788462370426,
          6.3845773939993915,
          6.469067564941505,
          6.524182373092897,
          6.552320375997097
         ],
         "yaxis": "y"
        },
        {
         "hovertemplate": "variable=8<br>index=%{x}<br>value=%{y}<extra></extra>",
         "legendgroup": "8",
         "line": {
          "color": "#B6E880",
          "dash": "solid"
         },
         "marker": {
          "symbol": "circle"
         },
         "mode": "lines+markers",
         "name": "8",
         "orientation": "v",
         "showlegend": true,
         "type": "scatter",
         "x": [
          0,
          1,
          2,
          3,
          4,
          5,
          6,
          7,
          8,
          9,
          10,
          11,
          12,
          13,
          14,
          15,
          16,
          17,
          18,
          19,
          20
         ],
         "xaxis": "x",
         "y": [
          3.7667509926550644,
          3.145289738171169,
          3.3466082848818237,
          3.6298429121707354,
          3.9721847873923464,
          4.188156197425353,
          4.836282293326362,
          4.985167496943591,
          5.287200820975797,
          5.3986335711850275,
          5.46869209028249,
          5.575857320954866,
          5.682240173738523,
          5.736116398284609,
          5.648685423283924,
          5.770834817207246,
          5.876563728086962,
          5.971999596702445,
          6.065651609689474,
          6.159271344061833,
          6.2263303063204445
         ],
         "yaxis": "y"
        }
       ],
       "layout": {
        "annotations": [
         {
          "showarrow": false,
          "text": "2.76",
          "x": 1,
          "xanchor": "right",
          "xref": "x domain",
          "y": 2.756291067108165,
          "yanchor": "bottom",
          "yref": "y"
         },
         {
          "showarrow": false,
          "text": "8.45",
          "x": 1,
          "xanchor": "right",
          "xref": "x domain",
          "y": 8.4543768894737,
          "yanchor": "bottom",
          "yref": "y"
         }
        ],
        "legend": {
         "title": {
          "text": "Subjects"
         },
         "tracegroupgap": 0
        },
        "shapes": [
         {
          "line": {
           "color": "black",
           "dash": "dot"
          },
          "opacity": 0.5,
          "type": "line",
          "x0": 0,
          "x1": 1,
          "xref": "x domain",
          "y0": 2.756291067108165,
          "y1": 2.756291067108165,
          "yref": "y"
         },
         {
          "line": {
           "color": "black",
           "dash": "dot"
          },
          "opacity": 0.5,
          "type": "line",
          "x0": 0,
          "x1": 1,
          "xref": "x domain",
          "y0": 8.4543768894737,
          "y1": 8.4543768894737,
          "yref": "y"
         }
        ],
        "template": {
         "data": {
          "bar": [
           {
            "error_x": {
             "color": "#2a3f5f"
            },
            "error_y": {
             "color": "#2a3f5f"
            },
            "marker": {
             "line": {
              "color": "#E5ECF6",
              "width": 0.5
             },
             "pattern": {
              "fillmode": "overlay",
              "size": 10,
              "solidity": 0.2
             }
            },
            "type": "bar"
           }
          ],
          "barpolar": [
           {
            "marker": {
             "line": {
              "color": "#E5ECF6",
              "width": 0.5
             },
             "pattern": {
              "fillmode": "overlay",
              "size": 10,
              "solidity": 0.2
             }
            },
            "type": "barpolar"
           }
          ],
          "carpet": [
           {
            "aaxis": {
             "endlinecolor": "#2a3f5f",
             "gridcolor": "white",
             "linecolor": "white",
             "minorgridcolor": "white",
             "startlinecolor": "#2a3f5f"
            },
            "baxis": {
             "endlinecolor": "#2a3f5f",
             "gridcolor": "white",
             "linecolor": "white",
             "minorgridcolor": "white",
             "startlinecolor": "#2a3f5f"
            },
            "type": "carpet"
           }
          ],
          "choropleth": [
           {
            "colorbar": {
             "outlinewidth": 0,
             "ticks": ""
            },
            "type": "choropleth"
           }
          ],
          "contour": [
           {
            "colorbar": {
             "outlinewidth": 0,
             "ticks": ""
            },
            "colorscale": [
             [
              0,
              "#0d0887"
             ],
             [
              0.1111111111111111,
              "#46039f"
             ],
             [
              0.2222222222222222,
              "#7201a8"
             ],
             [
              0.3333333333333333,
              "#9c179e"
             ],
             [
              0.4444444444444444,
              "#bd3786"
             ],
             [
              0.5555555555555556,
              "#d8576b"
             ],
             [
              0.6666666666666666,
              "#ed7953"
             ],
             [
              0.7777777777777778,
              "#fb9f3a"
             ],
             [
              0.8888888888888888,
              "#fdca26"
             ],
             [
              1,
              "#f0f921"
             ]
            ],
            "type": "contour"
           }
          ],
          "contourcarpet": [
           {
            "colorbar": {
             "outlinewidth": 0,
             "ticks": ""
            },
            "type": "contourcarpet"
           }
          ],
          "heatmap": [
           {
            "colorbar": {
             "outlinewidth": 0,
             "ticks": ""
            },
            "colorscale": [
             [
              0,
              "#0d0887"
             ],
             [
              0.1111111111111111,
              "#46039f"
             ],
             [
              0.2222222222222222,
              "#7201a8"
             ],
             [
              0.3333333333333333,
              "#9c179e"
             ],
             [
              0.4444444444444444,
              "#bd3786"
             ],
             [
              0.5555555555555556,
              "#d8576b"
             ],
             [
              0.6666666666666666,
              "#ed7953"
             ],
             [
              0.7777777777777778,
              "#fb9f3a"
             ],
             [
              0.8888888888888888,
              "#fdca26"
             ],
             [
              1,
              "#f0f921"
             ]
            ],
            "type": "heatmap"
           }
          ],
          "heatmapgl": [
           {
            "colorbar": {
             "outlinewidth": 0,
             "ticks": ""
            },
            "colorscale": [
             [
              0,
              "#0d0887"
             ],
             [
              0.1111111111111111,
              "#46039f"
             ],
             [
              0.2222222222222222,
              "#7201a8"
             ],
             [
              0.3333333333333333,
              "#9c179e"
             ],
             [
              0.4444444444444444,
              "#bd3786"
             ],
             [
              0.5555555555555556,
              "#d8576b"
             ],
             [
              0.6666666666666666,
              "#ed7953"
             ],
             [
              0.7777777777777778,
              "#fb9f3a"
             ],
             [
              0.8888888888888888,
              "#fdca26"
             ],
             [
              1,
              "#f0f921"
             ]
            ],
            "type": "heatmapgl"
           }
          ],
          "histogram": [
           {
            "marker": {
             "pattern": {
              "fillmode": "overlay",
              "size": 10,
              "solidity": 0.2
             }
            },
            "type": "histogram"
           }
          ],
          "histogram2d": [
           {
            "colorbar": {
             "outlinewidth": 0,
             "ticks": ""
            },
            "colorscale": [
             [
              0,
              "#0d0887"
             ],
             [
              0.1111111111111111,
              "#46039f"
             ],
             [
              0.2222222222222222,
              "#7201a8"
             ],
             [
              0.3333333333333333,
              "#9c179e"
             ],
             [
              0.4444444444444444,
              "#bd3786"
             ],
             [
              0.5555555555555556,
              "#d8576b"
             ],
             [
              0.6666666666666666,
              "#ed7953"
             ],
             [
              0.7777777777777778,
              "#fb9f3a"
             ],
             [
              0.8888888888888888,
              "#fdca26"
             ],
             [
              1,
              "#f0f921"
             ]
            ],
            "type": "histogram2d"
           }
          ],
          "histogram2dcontour": [
           {
            "colorbar": {
             "outlinewidth": 0,
             "ticks": ""
            },
            "colorscale": [
             [
              0,
              "#0d0887"
             ],
             [
              0.1111111111111111,
              "#46039f"
             ],
             [
              0.2222222222222222,
              "#7201a8"
             ],
             [
              0.3333333333333333,
              "#9c179e"
             ],
             [
              0.4444444444444444,
              "#bd3786"
             ],
             [
              0.5555555555555556,
              "#d8576b"
             ],
             [
              0.6666666666666666,
              "#ed7953"
             ],
             [
              0.7777777777777778,
              "#fb9f3a"
             ],
             [
              0.8888888888888888,
              "#fdca26"
             ],
             [
              1,
              "#f0f921"
             ]
            ],
            "type": "histogram2dcontour"
           }
          ],
          "mesh3d": [
           {
            "colorbar": {
             "outlinewidth": 0,
             "ticks": ""
            },
            "type": "mesh3d"
           }
          ],
          "parcoords": [
           {
            "line": {
             "colorbar": {
              "outlinewidth": 0,
              "ticks": ""
             }
            },
            "type": "parcoords"
           }
          ],
          "pie": [
           {
            "automargin": true,
            "type": "pie"
           }
          ],
          "scatter": [
           {
            "fillpattern": {
             "fillmode": "overlay",
             "size": 10,
             "solidity": 0.2
            },
            "type": "scatter"
           }
          ],
          "scatter3d": [
           {
            "line": {
             "colorbar": {
              "outlinewidth": 0,
              "ticks": ""
             }
            },
            "marker": {
             "colorbar": {
              "outlinewidth": 0,
              "ticks": ""
             }
            },
            "type": "scatter3d"
           }
          ],
          "scattercarpet": [
           {
            "marker": {
             "colorbar": {
              "outlinewidth": 0,
              "ticks": ""
             }
            },
            "type": "scattercarpet"
           }
          ],
          "scattergeo": [
           {
            "marker": {
             "colorbar": {
              "outlinewidth": 0,
              "ticks": ""
             }
            },
            "type": "scattergeo"
           }
          ],
          "scattergl": [
           {
            "marker": {
             "colorbar": {
              "outlinewidth": 0,
              "ticks": ""
             }
            },
            "type": "scattergl"
           }
          ],
          "scattermapbox": [
           {
            "marker": {
             "colorbar": {
              "outlinewidth": 0,
              "ticks": ""
             }
            },
            "type": "scattermapbox"
           }
          ],
          "scatterpolar": [
           {
            "marker": {
             "colorbar": {
              "outlinewidth": 0,
              "ticks": ""
             }
            },
            "type": "scatterpolar"
           }
          ],
          "scatterpolargl": [
           {
            "marker": {
             "colorbar": {
              "outlinewidth": 0,
              "ticks": ""
             }
            },
            "type": "scatterpolargl"
           }
          ],
          "scatterternary": [
           {
            "marker": {
             "colorbar": {
              "outlinewidth": 0,
              "ticks": ""
             }
            },
            "type": "scatterternary"
           }
          ],
          "surface": [
           {
            "colorbar": {
             "outlinewidth": 0,
             "ticks": ""
            },
            "colorscale": [
             [
              0,
              "#0d0887"
             ],
             [
              0.1111111111111111,
              "#46039f"
             ],
             [
              0.2222222222222222,
              "#7201a8"
             ],
             [
              0.3333333333333333,
              "#9c179e"
             ],
             [
              0.4444444444444444,
              "#bd3786"
             ],
             [
              0.5555555555555556,
              "#d8576b"
             ],
             [
              0.6666666666666666,
              "#ed7953"
             ],
             [
              0.7777777777777778,
              "#fb9f3a"
             ],
             [
              0.8888888888888888,
              "#fdca26"
             ],
             [
              1,
              "#f0f921"
             ]
            ],
            "type": "surface"
           }
          ],
          "table": [
           {
            "cells": {
             "fill": {
              "color": "#EBF0F8"
             },
             "line": {
              "color": "white"
             }
            },
            "header": {
             "fill": {
              "color": "#C8D4E3"
             },
             "line": {
              "color": "white"
             }
            },
            "type": "table"
           }
          ]
         },
         "layout": {
          "annotationdefaults": {
           "arrowcolor": "#2a3f5f",
           "arrowhead": 0,
           "arrowwidth": 1
          },
          "autotypenumbers": "strict",
          "coloraxis": {
           "colorbar": {
            "outlinewidth": 0,
            "ticks": ""
           }
          },
          "colorscale": {
           "diverging": [
            [
             0,
             "#8e0152"
            ],
            [
             0.1,
             "#c51b7d"
            ],
            [
             0.2,
             "#de77ae"
            ],
            [
             0.3,
             "#f1b6da"
            ],
            [
             0.4,
             "#fde0ef"
            ],
            [
             0.5,
             "#f7f7f7"
            ],
            [
             0.6,
             "#e6f5d0"
            ],
            [
             0.7,
             "#b8e186"
            ],
            [
             0.8,
             "#7fbc41"
            ],
            [
             0.9,
             "#4d9221"
            ],
            [
             1,
             "#276419"
            ]
           ],
           "sequential": [
            [
             0,
             "#0d0887"
            ],
            [
             0.1111111111111111,
             "#46039f"
            ],
            [
             0.2222222222222222,
             "#7201a8"
            ],
            [
             0.3333333333333333,
             "#9c179e"
            ],
            [
             0.4444444444444444,
             "#bd3786"
            ],
            [
             0.5555555555555556,
             "#d8576b"
            ],
            [
             0.6666666666666666,
             "#ed7953"
            ],
            [
             0.7777777777777778,
             "#fb9f3a"
            ],
            [
             0.8888888888888888,
             "#fdca26"
            ],
            [
             1,
             "#f0f921"
            ]
           ],
           "sequentialminus": [
            [
             0,
             "#0d0887"
            ],
            [
             0.1111111111111111,
             "#46039f"
            ],
            [
             0.2222222222222222,
             "#7201a8"
            ],
            [
             0.3333333333333333,
             "#9c179e"
            ],
            [
             0.4444444444444444,
             "#bd3786"
            ],
            [
             0.5555555555555556,
             "#d8576b"
            ],
            [
             0.6666666666666666,
             "#ed7953"
            ],
            [
             0.7777777777777778,
             "#fb9f3a"
            ],
            [
             0.8888888888888888,
             "#fdca26"
            ],
            [
             1,
             "#f0f921"
            ]
           ]
          },
          "colorway": [
           "#636efa",
           "#EF553B",
           "#00cc96",
           "#ab63fa",
           "#FFA15A",
           "#19d3f3",
           "#FF6692",
           "#B6E880",
           "#FF97FF",
           "#FECB52"
          ],
          "font": {
           "color": "#2a3f5f"
          },
          "geo": {
           "bgcolor": "white",
           "lakecolor": "white",
           "landcolor": "#E5ECF6",
           "showlakes": true,
           "showland": true,
           "subunitcolor": "white"
          },
          "hoverlabel": {
           "align": "left"
          },
          "hovermode": "closest",
          "mapbox": {
           "style": "light"
          },
          "paper_bgcolor": "white",
          "plot_bgcolor": "#E5ECF6",
          "polar": {
           "angularaxis": {
            "gridcolor": "white",
            "linecolor": "white",
            "ticks": ""
           },
           "bgcolor": "#E5ECF6",
           "radialaxis": {
            "gridcolor": "white",
            "linecolor": "white",
            "ticks": ""
           }
          },
          "scene": {
           "xaxis": {
            "backgroundcolor": "#E5ECF6",
            "gridcolor": "white",
            "gridwidth": 2,
            "linecolor": "white",
            "showbackground": true,
            "ticks": "",
            "zerolinecolor": "white"
           },
           "yaxis": {
            "backgroundcolor": "#E5ECF6",
            "gridcolor": "white",
            "gridwidth": 2,
            "linecolor": "white",
            "showbackground": true,
            "ticks": "",
            "zerolinecolor": "white"
           },
           "zaxis": {
            "backgroundcolor": "#E5ECF6",
            "gridcolor": "white",
            "gridwidth": 2,
            "linecolor": "white",
            "showbackground": true,
            "ticks": "",
            "zerolinecolor": "white"
           }
          },
          "shapedefaults": {
           "line": {
            "color": "#2a3f5f"
           }
          },
          "ternary": {
           "aaxis": {
            "gridcolor": "white",
            "linecolor": "white",
            "ticks": ""
           },
           "baxis": {
            "gridcolor": "white",
            "linecolor": "white",
            "ticks": ""
           },
           "bgcolor": "#E5ECF6",
           "caxis": {
            "gridcolor": "white",
            "linecolor": "white",
            "ticks": ""
           }
          },
          "title": {
           "x": 0.05
          },
          "xaxis": {
           "automargin": true,
           "gridcolor": "white",
           "linecolor": "white",
           "ticks": "",
           "title": {
            "standoff": 15
           },
           "zerolinecolor": "white",
           "zerolinewidth": 2
          },
          "yaxis": {
           "automargin": true,
           "gridcolor": "white",
           "linecolor": "white",
           "ticks": "",
           "title": {
            "standoff": 15
           },
           "zerolinecolor": "white",
           "zerolinewidth": 2
          }
         }
        },
        "title": {
         "text": "RS"
        },
        "xaxis": {
         "anchor": "y",
         "domain": [
          0,
          1
         ],
         "title": {
          "text": "FWHM (mm)"
         }
        },
        "yaxis": {
         "anchor": "x",
         "domain": [
          0,
          1
         ],
         "title": {
          "text": "Significant bits"
         }
        }
       }
      }
     },
     "metadata": {},
     "output_type": "display_data"
    }
   ],
   "source": [
    "plot_significant_digits(rs, \"RS\")"
   ]
  },
  {
   "cell_type": "markdown",
   "metadata": {},
   "source": [
    "Load pickle files\n",
    "\n",
    "- `subjects`: Subjects analysis "
   ]
  },
  {
   "cell_type": "markdown",
   "metadata": {},
   "source": []
  },
  {
   "cell_type": "code",
   "execution_count": 39,
   "metadata": {},
   "outputs": [
    {
     "data": {
      "text/html": [
       "<div>\n",
       "<style scoped>\n",
       "    .dataframe tbody tr th:only-of-type {\n",
       "        vertical-align: middle;\n",
       "    }\n",
       "\n",
       "    .dataframe tbody tr th {\n",
       "        vertical-align: top;\n",
       "    }\n",
       "\n",
       "    .dataframe thead th {\n",
       "        text-align: right;\n",
       "    }\n",
       "</style>\n",
       "<table border=\"1\" class=\"dataframe\">\n",
       "  <thead>\n",
       "    <tr style=\"text-align: right;\">\n",
       "      <th></th>\n",
       "      <th>reference_version</th>\n",
       "      <th>reference_architecture</th>\n",
       "      <th>reference_perturbation</th>\n",
       "      <th>reference_prefix</th>\n",
       "      <th>reference_dataset</th>\n",
       "      <th>reference_subject</th>\n",
       "      <th>reference_template</th>\n",
       "      <th>reference_sample_size</th>\n",
       "      <th>reference_fwhm</th>\n",
       "      <th>reference_mask</th>\n",
       "      <th>...</th>\n",
       "      <th>target_dataset</th>\n",
       "      <th>target_subject</th>\n",
       "      <th>target_template</th>\n",
       "      <th>target_filename</th>\n",
       "      <th>kth_round</th>\n",
       "      <th>nb_round</th>\n",
       "      <th>confidence</th>\n",
       "      <th>reject</th>\n",
       "      <th>tests</th>\n",
       "      <th>method</th>\n",
       "    </tr>\n",
       "  </thead>\n",
       "  <tbody>\n",
       "    <tr>\n",
       "      <th>0</th>\n",
       "      <td>20.2.1</td>\n",
       "      <td>narval-AMD</td>\n",
       "      <td>ieee</td>\n",
       "      <td>outputs/20.2.1/ieee</td>\n",
       "      <td>ds001771</td>\n",
       "      <td>sub-36</td>\n",
       "      <td>MNI152NLin2009cAsym</td>\n",
       "      <td>1</td>\n",
       "      <td>0</td>\n",
       "      <td>union</td>\n",
       "      <td>...</td>\n",
       "      <td>ds001771</td>\n",
       "      <td>sub-36</td>\n",
       "      <td>MNI152NLin2009cAsymNoised0200</td>\n",
       "      <td>/home/yohan/Work/fmriprep-reproducibility/resu...</td>\n",
       "      <td>1</td>\n",
       "      <td>1</td>\n",
       "      <td>0.999</td>\n",
       "      <td>0</td>\n",
       "      <td>3651571</td>\n",
       "      <td>pce</td>\n",
       "    </tr>\n",
       "    <tr>\n",
       "      <th>1</th>\n",
       "      <td>20.2.1</td>\n",
       "      <td>narval-AMD</td>\n",
       "      <td>ieee</td>\n",
       "      <td>outputs/20.2.1/ieee</td>\n",
       "      <td>ds001771</td>\n",
       "      <td>sub-36</td>\n",
       "      <td>MNI152NLin2009cAsym</td>\n",
       "      <td>1</td>\n",
       "      <td>0</td>\n",
       "      <td>union</td>\n",
       "      <td>...</td>\n",
       "      <td>ds001771</td>\n",
       "      <td>sub-36</td>\n",
       "      <td>MNI152NLin2009cAsymNoised0200</td>\n",
       "      <td>/home/yohan/Work/fmriprep-reproducibility/resu...</td>\n",
       "      <td>1</td>\n",
       "      <td>1</td>\n",
       "      <td>0.995</td>\n",
       "      <td>0</td>\n",
       "      <td>3651571</td>\n",
       "      <td>pce</td>\n",
       "    </tr>\n",
       "    <tr>\n",
       "      <th>2</th>\n",
       "      <td>20.2.1</td>\n",
       "      <td>narval-AMD</td>\n",
       "      <td>ieee</td>\n",
       "      <td>outputs/20.2.1/ieee</td>\n",
       "      <td>ds001771</td>\n",
       "      <td>sub-36</td>\n",
       "      <td>MNI152NLin2009cAsym</td>\n",
       "      <td>1</td>\n",
       "      <td>0</td>\n",
       "      <td>union</td>\n",
       "      <td>...</td>\n",
       "      <td>ds001771</td>\n",
       "      <td>sub-36</td>\n",
       "      <td>MNI152NLin2009cAsymNoised0200</td>\n",
       "      <td>/home/yohan/Work/fmriprep-reproducibility/resu...</td>\n",
       "      <td>1</td>\n",
       "      <td>1</td>\n",
       "      <td>0.990</td>\n",
       "      <td>0</td>\n",
       "      <td>3651571</td>\n",
       "      <td>pce</td>\n",
       "    </tr>\n",
       "    <tr>\n",
       "      <th>3</th>\n",
       "      <td>20.2.1</td>\n",
       "      <td>narval-AMD</td>\n",
       "      <td>ieee</td>\n",
       "      <td>outputs/20.2.1/ieee</td>\n",
       "      <td>ds001771</td>\n",
       "      <td>sub-36</td>\n",
       "      <td>MNI152NLin2009cAsym</td>\n",
       "      <td>1</td>\n",
       "      <td>0</td>\n",
       "      <td>union</td>\n",
       "      <td>...</td>\n",
       "      <td>ds001771</td>\n",
       "      <td>sub-36</td>\n",
       "      <td>MNI152NLin2009cAsymNoised0200</td>\n",
       "      <td>/home/yohan/Work/fmriprep-reproducibility/resu...</td>\n",
       "      <td>1</td>\n",
       "      <td>1</td>\n",
       "      <td>0.950</td>\n",
       "      <td>0</td>\n",
       "      <td>3651571</td>\n",
       "      <td>pce</td>\n",
       "    </tr>\n",
       "    <tr>\n",
       "      <th>4</th>\n",
       "      <td>20.2.1</td>\n",
       "      <td>narval-AMD</td>\n",
       "      <td>ieee</td>\n",
       "      <td>outputs/20.2.1/ieee</td>\n",
       "      <td>ds001771</td>\n",
       "      <td>sub-36</td>\n",
       "      <td>MNI152NLin2009cAsym</td>\n",
       "      <td>1</td>\n",
       "      <td>0</td>\n",
       "      <td>union</td>\n",
       "      <td>...</td>\n",
       "      <td>ds001771</td>\n",
       "      <td>sub-36</td>\n",
       "      <td>MNI152NLin2009cAsymNoised0200</td>\n",
       "      <td>/home/yohan/Work/fmriprep-reproducibility/resu...</td>\n",
       "      <td>1</td>\n",
       "      <td>1</td>\n",
       "      <td>0.900</td>\n",
       "      <td>0</td>\n",
       "      <td>3651571</td>\n",
       "      <td>pce</td>\n",
       "    </tr>\n",
       "    <tr>\n",
       "      <th>...</th>\n",
       "      <td>...</td>\n",
       "      <td>...</td>\n",
       "      <td>...</td>\n",
       "      <td>...</td>\n",
       "      <td>...</td>\n",
       "      <td>...</td>\n",
       "      <td>...</td>\n",
       "      <td>...</td>\n",
       "      <td>...</td>\n",
       "      <td>...</td>\n",
       "      <td>...</td>\n",
       "      <td>...</td>\n",
       "      <td>...</td>\n",
       "      <td>...</td>\n",
       "      <td>...</td>\n",
       "      <td>...</td>\n",
       "      <td>...</td>\n",
       "      <td>...</td>\n",
       "      <td>...</td>\n",
       "      <td>...</td>\n",
       "      <td>...</td>\n",
       "    </tr>\n",
       "    <tr>\n",
       "      <th>2595</th>\n",
       "      <td>20.2.1</td>\n",
       "      <td>narval-AMD</td>\n",
       "      <td>ieee</td>\n",
       "      <td>outputs/20.2.1/ieee</td>\n",
       "      <td>ds000256</td>\n",
       "      <td>sub-CTS201</td>\n",
       "      <td>MNI152NLin2009cAsym</td>\n",
       "      <td>1</td>\n",
       "      <td>19</td>\n",
       "      <td>union</td>\n",
       "      <td>...</td>\n",
       "      <td>ds000256</td>\n",
       "      <td>sub-CTS201</td>\n",
       "      <td>MNI152NLin2009cAsymNoised0200</td>\n",
       "      <td>/home/yohan/Work/fmriprep-reproducibility/resu...</td>\n",
       "      <td>1</td>\n",
       "      <td>1</td>\n",
       "      <td>0.700</td>\n",
       "      <td>0</td>\n",
       "      <td>1882780</td>\n",
       "      <td>fwe-bonferroni</td>\n",
       "    </tr>\n",
       "    <tr>\n",
       "      <th>2596</th>\n",
       "      <td>20.2.1</td>\n",
       "      <td>narval-AMD</td>\n",
       "      <td>ieee</td>\n",
       "      <td>outputs/20.2.1/ieee</td>\n",
       "      <td>ds000256</td>\n",
       "      <td>sub-CTS201</td>\n",
       "      <td>MNI152NLin2009cAsym</td>\n",
       "      <td>1</td>\n",
       "      <td>19</td>\n",
       "      <td>union</td>\n",
       "      <td>...</td>\n",
       "      <td>ds000256</td>\n",
       "      <td>sub-CTS201</td>\n",
       "      <td>MNI152NLin2009cAsymNoised0200</td>\n",
       "      <td>/home/yohan/Work/fmriprep-reproducibility/resu...</td>\n",
       "      <td>1</td>\n",
       "      <td>1</td>\n",
       "      <td>0.650</td>\n",
       "      <td>0</td>\n",
       "      <td>1882780</td>\n",
       "      <td>fwe-bonferroni</td>\n",
       "    </tr>\n",
       "    <tr>\n",
       "      <th>2597</th>\n",
       "      <td>20.2.1</td>\n",
       "      <td>narval-AMD</td>\n",
       "      <td>ieee</td>\n",
       "      <td>outputs/20.2.1/ieee</td>\n",
       "      <td>ds000256</td>\n",
       "      <td>sub-CTS201</td>\n",
       "      <td>MNI152NLin2009cAsym</td>\n",
       "      <td>1</td>\n",
       "      <td>19</td>\n",
       "      <td>union</td>\n",
       "      <td>...</td>\n",
       "      <td>ds000256</td>\n",
       "      <td>sub-CTS201</td>\n",
       "      <td>MNI152NLin2009cAsymNoised0200</td>\n",
       "      <td>/home/yohan/Work/fmriprep-reproducibility/resu...</td>\n",
       "      <td>1</td>\n",
       "      <td>1</td>\n",
       "      <td>0.600</td>\n",
       "      <td>0</td>\n",
       "      <td>1882780</td>\n",
       "      <td>fwe-bonferroni</td>\n",
       "    </tr>\n",
       "    <tr>\n",
       "      <th>2598</th>\n",
       "      <td>20.2.1</td>\n",
       "      <td>narval-AMD</td>\n",
       "      <td>ieee</td>\n",
       "      <td>outputs/20.2.1/ieee</td>\n",
       "      <td>ds000256</td>\n",
       "      <td>sub-CTS201</td>\n",
       "      <td>MNI152NLin2009cAsym</td>\n",
       "      <td>1</td>\n",
       "      <td>19</td>\n",
       "      <td>union</td>\n",
       "      <td>...</td>\n",
       "      <td>ds000256</td>\n",
       "      <td>sub-CTS201</td>\n",
       "      <td>MNI152NLin2009cAsymNoised0200</td>\n",
       "      <td>/home/yohan/Work/fmriprep-reproducibility/resu...</td>\n",
       "      <td>1</td>\n",
       "      <td>1</td>\n",
       "      <td>0.550</td>\n",
       "      <td>0</td>\n",
       "      <td>1882780</td>\n",
       "      <td>fwe-bonferroni</td>\n",
       "    </tr>\n",
       "    <tr>\n",
       "      <th>2599</th>\n",
       "      <td>20.2.1</td>\n",
       "      <td>narval-AMD</td>\n",
       "      <td>ieee</td>\n",
       "      <td>outputs/20.2.1/ieee</td>\n",
       "      <td>ds000256</td>\n",
       "      <td>sub-CTS201</td>\n",
       "      <td>MNI152NLin2009cAsym</td>\n",
       "      <td>1</td>\n",
       "      <td>19</td>\n",
       "      <td>union</td>\n",
       "      <td>...</td>\n",
       "      <td>ds000256</td>\n",
       "      <td>sub-CTS201</td>\n",
       "      <td>MNI152NLin2009cAsymNoised0200</td>\n",
       "      <td>/home/yohan/Work/fmriprep-reproducibility/resu...</td>\n",
       "      <td>1</td>\n",
       "      <td>1</td>\n",
       "      <td>0.500</td>\n",
       "      <td>0</td>\n",
       "      <td>1882780</td>\n",
       "      <td>fwe-bonferroni</td>\n",
       "    </tr>\n",
       "  </tbody>\n",
       "</table>\n",
       "<p>270400 rows × 24 columns</p>\n",
       "</div>"
      ],
      "text/plain": [
       "     reference_version reference_architecture reference_perturbation  \\\n",
       "0               20.2.1             narval-AMD                   ieee   \n",
       "1               20.2.1             narval-AMD                   ieee   \n",
       "2               20.2.1             narval-AMD                   ieee   \n",
       "3               20.2.1             narval-AMD                   ieee   \n",
       "4               20.2.1             narval-AMD                   ieee   \n",
       "...                ...                    ...                    ...   \n",
       "2595            20.2.1             narval-AMD                   ieee   \n",
       "2596            20.2.1             narval-AMD                   ieee   \n",
       "2597            20.2.1             narval-AMD                   ieee   \n",
       "2598            20.2.1             narval-AMD                   ieee   \n",
       "2599            20.2.1             narval-AMD                   ieee   \n",
       "\n",
       "         reference_prefix reference_dataset reference_subject  \\\n",
       "0     outputs/20.2.1/ieee          ds001771            sub-36   \n",
       "1     outputs/20.2.1/ieee          ds001771            sub-36   \n",
       "2     outputs/20.2.1/ieee          ds001771            sub-36   \n",
       "3     outputs/20.2.1/ieee          ds001771            sub-36   \n",
       "4     outputs/20.2.1/ieee          ds001771            sub-36   \n",
       "...                   ...               ...               ...   \n",
       "2595  outputs/20.2.1/ieee          ds000256        sub-CTS201   \n",
       "2596  outputs/20.2.1/ieee          ds000256        sub-CTS201   \n",
       "2597  outputs/20.2.1/ieee          ds000256        sub-CTS201   \n",
       "2598  outputs/20.2.1/ieee          ds000256        sub-CTS201   \n",
       "2599  outputs/20.2.1/ieee          ds000256        sub-CTS201   \n",
       "\n",
       "       reference_template  reference_sample_size  reference_fwhm  \\\n",
       "0     MNI152NLin2009cAsym                      1               0   \n",
       "1     MNI152NLin2009cAsym                      1               0   \n",
       "2     MNI152NLin2009cAsym                      1               0   \n",
       "3     MNI152NLin2009cAsym                      1               0   \n",
       "4     MNI152NLin2009cAsym                      1               0   \n",
       "...                   ...                    ...             ...   \n",
       "2595  MNI152NLin2009cAsym                      1              19   \n",
       "2596  MNI152NLin2009cAsym                      1              19   \n",
       "2597  MNI152NLin2009cAsym                      1              19   \n",
       "2598  MNI152NLin2009cAsym                      1              19   \n",
       "2599  MNI152NLin2009cAsym                      1              19   \n",
       "\n",
       "     reference_mask  ... target_dataset target_subject  \\\n",
       "0             union  ...       ds001771         sub-36   \n",
       "1             union  ...       ds001771         sub-36   \n",
       "2             union  ...       ds001771         sub-36   \n",
       "3             union  ...       ds001771         sub-36   \n",
       "4             union  ...       ds001771         sub-36   \n",
       "...             ...  ...            ...            ...   \n",
       "2595          union  ...       ds000256     sub-CTS201   \n",
       "2596          union  ...       ds000256     sub-CTS201   \n",
       "2597          union  ...       ds000256     sub-CTS201   \n",
       "2598          union  ...       ds000256     sub-CTS201   \n",
       "2599          union  ...       ds000256     sub-CTS201   \n",
       "\n",
       "                    target_template  \\\n",
       "0     MNI152NLin2009cAsymNoised0200   \n",
       "1     MNI152NLin2009cAsymNoised0200   \n",
       "2     MNI152NLin2009cAsymNoised0200   \n",
       "3     MNI152NLin2009cAsymNoised0200   \n",
       "4     MNI152NLin2009cAsymNoised0200   \n",
       "...                             ...   \n",
       "2595  MNI152NLin2009cAsymNoised0200   \n",
       "2596  MNI152NLin2009cAsymNoised0200   \n",
       "2597  MNI152NLin2009cAsymNoised0200   \n",
       "2598  MNI152NLin2009cAsymNoised0200   \n",
       "2599  MNI152NLin2009cAsymNoised0200   \n",
       "\n",
       "                                        target_filename kth_round nb_round  \\\n",
       "0     /home/yohan/Work/fmriprep-reproducibility/resu...         1        1   \n",
       "1     /home/yohan/Work/fmriprep-reproducibility/resu...         1        1   \n",
       "2     /home/yohan/Work/fmriprep-reproducibility/resu...         1        1   \n",
       "3     /home/yohan/Work/fmriprep-reproducibility/resu...         1        1   \n",
       "4     /home/yohan/Work/fmriprep-reproducibility/resu...         1        1   \n",
       "...                                                 ...       ...      ...   \n",
       "2595  /home/yohan/Work/fmriprep-reproducibility/resu...         1        1   \n",
       "2596  /home/yohan/Work/fmriprep-reproducibility/resu...         1        1   \n",
       "2597  /home/yohan/Work/fmriprep-reproducibility/resu...         1        1   \n",
       "2598  /home/yohan/Work/fmriprep-reproducibility/resu...         1        1   \n",
       "2599  /home/yohan/Work/fmriprep-reproducibility/resu...         1        1   \n",
       "\n",
       "     confidence reject    tests          method  \n",
       "0         0.999      0  3651571             pce  \n",
       "1         0.995      0  3651571             pce  \n",
       "2         0.990      0  3651571             pce  \n",
       "3         0.950      0  3651571             pce  \n",
       "4         0.900      0  3651571             pce  \n",
       "...         ...    ...      ...             ...  \n",
       "2595      0.700      0  1882780  fwe-bonferroni  \n",
       "2596      0.650      0  1882780  fwe-bonferroni  \n",
       "2597      0.600      0  1882780  fwe-bonferroni  \n",
       "2598      0.550      0  1882780  fwe-bonferroni  \n",
       "2599      0.500      0  1882780  fwe-bonferroni  \n",
       "\n",
       "[270400 rows x 24 columns]"
      ]
     },
     "execution_count": 39,
     "metadata": {},
     "output_type": "execute_result"
    }
   ],
   "source": [
    "def load_pickle_files(files):\n",
    "    \"\"\"\n",
    "    Load all pickle files in a directory\n",
    "    \"\"\"\n",
    "    df = pd.concat(pd.DataFrame(pd.read_pickle(file)) for file in files)\n",
    "    return df\n",
    "\n",
    "template_experiments = glob.glob(\"pickles/template/*.pkl\", recursive=True)\n",
    "template_df = load_pickle_files(template_experiments)\n",
    "template_df"
   ]
  },
  {
   "cell_type": "code",
   "execution_count": 72,
   "metadata": {},
   "outputs": [
    {
     "data": {
      "text/html": [
       "<div>\n",
       "<style scoped>\n",
       "    .dataframe tbody tr th:only-of-type {\n",
       "        vertical-align: middle;\n",
       "    }\n",
       "\n",
       "    .dataframe tbody tr th {\n",
       "        vertical-align: top;\n",
       "    }\n",
       "\n",
       "    .dataframe thead th {\n",
       "        text-align: right;\n",
       "    }\n",
       "</style>\n",
       "<table border=\"1\" class=\"dataframe\">\n",
       "  <thead>\n",
       "    <tr style=\"text-align: right;\">\n",
       "      <th></th>\n",
       "      <th>reference_version</th>\n",
       "      <th>reference_architecture</th>\n",
       "      <th>reference_perturbation</th>\n",
       "      <th>reference_prefix</th>\n",
       "      <th>reference_dataset</th>\n",
       "      <th>reference_subject</th>\n",
       "      <th>reference_template</th>\n",
       "      <th>reference_sample_size</th>\n",
       "      <th>reference_fwhm</th>\n",
       "      <th>reference_mask</th>\n",
       "      <th>...</th>\n",
       "      <th>target_dataset</th>\n",
       "      <th>target_subject</th>\n",
       "      <th>target_template</th>\n",
       "      <th>target_filename</th>\n",
       "      <th>kth_round</th>\n",
       "      <th>nb_round</th>\n",
       "      <th>confidence</th>\n",
       "      <th>reject</th>\n",
       "      <th>tests</th>\n",
       "      <th>method</th>\n",
       "    </tr>\n",
       "  </thead>\n",
       "  <tbody>\n",
       "    <tr>\n",
       "      <th>117</th>\n",
       "      <td>20.2.1</td>\n",
       "      <td>narval-AMD</td>\n",
       "      <td>ieee</td>\n",
       "      <td>outputs/20.2.1/ieee</td>\n",
       "      <td>ds001771</td>\n",
       "      <td>sub-36</td>\n",
       "      <td>MNI152NLin2009cAsym</td>\n",
       "      <td>1</td>\n",
       "      <td>0</td>\n",
       "      <td>union</td>\n",
       "      <td>...</td>\n",
       "      <td>ds001771</td>\n",
       "      <td>sub-36</td>\n",
       "      <td>MNI152NLin2009cAsymNoised0200</td>\n",
       "      <td>/home/yohan/Work/fmriprep-reproducibility/resu...</td>\n",
       "      <td>1</td>\n",
       "      <td>1</td>\n",
       "      <td>0.999</td>\n",
       "      <td>0</td>\n",
       "      <td>3651571</td>\n",
       "      <td>fwe-bonferroni</td>\n",
       "    </tr>\n",
       "    <tr>\n",
       "      <th>118</th>\n",
       "      <td>20.2.1</td>\n",
       "      <td>narval-AMD</td>\n",
       "      <td>ieee</td>\n",
       "      <td>outputs/20.2.1/ieee</td>\n",
       "      <td>ds001771</td>\n",
       "      <td>sub-36</td>\n",
       "      <td>MNI152NLin2009cAsym</td>\n",
       "      <td>1</td>\n",
       "      <td>0</td>\n",
       "      <td>union</td>\n",
       "      <td>...</td>\n",
       "      <td>ds001771</td>\n",
       "      <td>sub-36</td>\n",
       "      <td>MNI152NLin2009cAsymNoised0200</td>\n",
       "      <td>/home/yohan/Work/fmriprep-reproducibility/resu...</td>\n",
       "      <td>1</td>\n",
       "      <td>1</td>\n",
       "      <td>0.995</td>\n",
       "      <td>0</td>\n",
       "      <td>3651571</td>\n",
       "      <td>fwe-bonferroni</td>\n",
       "    </tr>\n",
       "    <tr>\n",
       "      <th>119</th>\n",
       "      <td>20.2.1</td>\n",
       "      <td>narval-AMD</td>\n",
       "      <td>ieee</td>\n",
       "      <td>outputs/20.2.1/ieee</td>\n",
       "      <td>ds001771</td>\n",
       "      <td>sub-36</td>\n",
       "      <td>MNI152NLin2009cAsym</td>\n",
       "      <td>1</td>\n",
       "      <td>0</td>\n",
       "      <td>union</td>\n",
       "      <td>...</td>\n",
       "      <td>ds001771</td>\n",
       "      <td>sub-36</td>\n",
       "      <td>MNI152NLin2009cAsymNoised0200</td>\n",
       "      <td>/home/yohan/Work/fmriprep-reproducibility/resu...</td>\n",
       "      <td>1</td>\n",
       "      <td>1</td>\n",
       "      <td>0.990</td>\n",
       "      <td>0</td>\n",
       "      <td>3651571</td>\n",
       "      <td>fwe-bonferroni</td>\n",
       "    </tr>\n",
       "    <tr>\n",
       "      <th>120</th>\n",
       "      <td>20.2.1</td>\n",
       "      <td>narval-AMD</td>\n",
       "      <td>ieee</td>\n",
       "      <td>outputs/20.2.1/ieee</td>\n",
       "      <td>ds001771</td>\n",
       "      <td>sub-36</td>\n",
       "      <td>MNI152NLin2009cAsym</td>\n",
       "      <td>1</td>\n",
       "      <td>0</td>\n",
       "      <td>union</td>\n",
       "      <td>...</td>\n",
       "      <td>ds001771</td>\n",
       "      <td>sub-36</td>\n",
       "      <td>MNI152NLin2009cAsymNoised0200</td>\n",
       "      <td>/home/yohan/Work/fmriprep-reproducibility/resu...</td>\n",
       "      <td>1</td>\n",
       "      <td>1</td>\n",
       "      <td>0.950</td>\n",
       "      <td>0</td>\n",
       "      <td>3651571</td>\n",
       "      <td>fwe-bonferroni</td>\n",
       "    </tr>\n",
       "    <tr>\n",
       "      <th>121</th>\n",
       "      <td>20.2.1</td>\n",
       "      <td>narval-AMD</td>\n",
       "      <td>ieee</td>\n",
       "      <td>outputs/20.2.1/ieee</td>\n",
       "      <td>ds001771</td>\n",
       "      <td>sub-36</td>\n",
       "      <td>MNI152NLin2009cAsym</td>\n",
       "      <td>1</td>\n",
       "      <td>0</td>\n",
       "      <td>union</td>\n",
       "      <td>...</td>\n",
       "      <td>ds001771</td>\n",
       "      <td>sub-36</td>\n",
       "      <td>MNI152NLin2009cAsymNoised0200</td>\n",
       "      <td>/home/yohan/Work/fmriprep-reproducibility/resu...</td>\n",
       "      <td>1</td>\n",
       "      <td>1</td>\n",
       "      <td>0.900</td>\n",
       "      <td>0</td>\n",
       "      <td>3651571</td>\n",
       "      <td>fwe-bonferroni</td>\n",
       "    </tr>\n",
       "    <tr>\n",
       "      <th>...</th>\n",
       "      <td>...</td>\n",
       "      <td>...</td>\n",
       "      <td>...</td>\n",
       "      <td>...</td>\n",
       "      <td>...</td>\n",
       "      <td>...</td>\n",
       "      <td>...</td>\n",
       "      <td>...</td>\n",
       "      <td>...</td>\n",
       "      <td>...</td>\n",
       "      <td>...</td>\n",
       "      <td>...</td>\n",
       "      <td>...</td>\n",
       "      <td>...</td>\n",
       "      <td>...</td>\n",
       "      <td>...</td>\n",
       "      <td>...</td>\n",
       "      <td>...</td>\n",
       "      <td>...</td>\n",
       "      <td>...</td>\n",
       "      <td>...</td>\n",
       "    </tr>\n",
       "    <tr>\n",
       "      <th>2595</th>\n",
       "      <td>20.2.1</td>\n",
       "      <td>narval-AMD</td>\n",
       "      <td>ieee</td>\n",
       "      <td>outputs/20.2.1/ieee</td>\n",
       "      <td>ds000256</td>\n",
       "      <td>sub-CTS201</td>\n",
       "      <td>MNI152NLin2009cAsym</td>\n",
       "      <td>1</td>\n",
       "      <td>19</td>\n",
       "      <td>union</td>\n",
       "      <td>...</td>\n",
       "      <td>ds000256</td>\n",
       "      <td>sub-CTS201</td>\n",
       "      <td>MNI152NLin2009cAsymNoised0200</td>\n",
       "      <td>/home/yohan/Work/fmriprep-reproducibility/resu...</td>\n",
       "      <td>1</td>\n",
       "      <td>1</td>\n",
       "      <td>0.700</td>\n",
       "      <td>0</td>\n",
       "      <td>1882780</td>\n",
       "      <td>fwe-bonferroni</td>\n",
       "    </tr>\n",
       "    <tr>\n",
       "      <th>2596</th>\n",
       "      <td>20.2.1</td>\n",
       "      <td>narval-AMD</td>\n",
       "      <td>ieee</td>\n",
       "      <td>outputs/20.2.1/ieee</td>\n",
       "      <td>ds000256</td>\n",
       "      <td>sub-CTS201</td>\n",
       "      <td>MNI152NLin2009cAsym</td>\n",
       "      <td>1</td>\n",
       "      <td>19</td>\n",
       "      <td>union</td>\n",
       "      <td>...</td>\n",
       "      <td>ds000256</td>\n",
       "      <td>sub-CTS201</td>\n",
       "      <td>MNI152NLin2009cAsymNoised0200</td>\n",
       "      <td>/home/yohan/Work/fmriprep-reproducibility/resu...</td>\n",
       "      <td>1</td>\n",
       "      <td>1</td>\n",
       "      <td>0.650</td>\n",
       "      <td>0</td>\n",
       "      <td>1882780</td>\n",
       "      <td>fwe-bonferroni</td>\n",
       "    </tr>\n",
       "    <tr>\n",
       "      <th>2597</th>\n",
       "      <td>20.2.1</td>\n",
       "      <td>narval-AMD</td>\n",
       "      <td>ieee</td>\n",
       "      <td>outputs/20.2.1/ieee</td>\n",
       "      <td>ds000256</td>\n",
       "      <td>sub-CTS201</td>\n",
       "      <td>MNI152NLin2009cAsym</td>\n",
       "      <td>1</td>\n",
       "      <td>19</td>\n",
       "      <td>union</td>\n",
       "      <td>...</td>\n",
       "      <td>ds000256</td>\n",
       "      <td>sub-CTS201</td>\n",
       "      <td>MNI152NLin2009cAsymNoised0200</td>\n",
       "      <td>/home/yohan/Work/fmriprep-reproducibility/resu...</td>\n",
       "      <td>1</td>\n",
       "      <td>1</td>\n",
       "      <td>0.600</td>\n",
       "      <td>0</td>\n",
       "      <td>1882780</td>\n",
       "      <td>fwe-bonferroni</td>\n",
       "    </tr>\n",
       "    <tr>\n",
       "      <th>2598</th>\n",
       "      <td>20.2.1</td>\n",
       "      <td>narval-AMD</td>\n",
       "      <td>ieee</td>\n",
       "      <td>outputs/20.2.1/ieee</td>\n",
       "      <td>ds000256</td>\n",
       "      <td>sub-CTS201</td>\n",
       "      <td>MNI152NLin2009cAsym</td>\n",
       "      <td>1</td>\n",
       "      <td>19</td>\n",
       "      <td>union</td>\n",
       "      <td>...</td>\n",
       "      <td>ds000256</td>\n",
       "      <td>sub-CTS201</td>\n",
       "      <td>MNI152NLin2009cAsymNoised0200</td>\n",
       "      <td>/home/yohan/Work/fmriprep-reproducibility/resu...</td>\n",
       "      <td>1</td>\n",
       "      <td>1</td>\n",
       "      <td>0.550</td>\n",
       "      <td>0</td>\n",
       "      <td>1882780</td>\n",
       "      <td>fwe-bonferroni</td>\n",
       "    </tr>\n",
       "    <tr>\n",
       "      <th>2599</th>\n",
       "      <td>20.2.1</td>\n",
       "      <td>narval-AMD</td>\n",
       "      <td>ieee</td>\n",
       "      <td>outputs/20.2.1/ieee</td>\n",
       "      <td>ds000256</td>\n",
       "      <td>sub-CTS201</td>\n",
       "      <td>MNI152NLin2009cAsym</td>\n",
       "      <td>1</td>\n",
       "      <td>19</td>\n",
       "      <td>union</td>\n",
       "      <td>...</td>\n",
       "      <td>ds000256</td>\n",
       "      <td>sub-CTS201</td>\n",
       "      <td>MNI152NLin2009cAsymNoised0200</td>\n",
       "      <td>/home/yohan/Work/fmriprep-reproducibility/resu...</td>\n",
       "      <td>1</td>\n",
       "      <td>1</td>\n",
       "      <td>0.500</td>\n",
       "      <td>0</td>\n",
       "      <td>1882780</td>\n",
       "      <td>fwe-bonferroni</td>\n",
       "    </tr>\n",
       "  </tbody>\n",
       "</table>\n",
       "<p>27040 rows × 24 columns</p>\n",
       "</div>"
      ],
      "text/plain": [
       "     reference_version reference_architecture reference_perturbation  \\\n",
       "117             20.2.1             narval-AMD                   ieee   \n",
       "118             20.2.1             narval-AMD                   ieee   \n",
       "119             20.2.1             narval-AMD                   ieee   \n",
       "120             20.2.1             narval-AMD                   ieee   \n",
       "121             20.2.1             narval-AMD                   ieee   \n",
       "...                ...                    ...                    ...   \n",
       "2595            20.2.1             narval-AMD                   ieee   \n",
       "2596            20.2.1             narval-AMD                   ieee   \n",
       "2597            20.2.1             narval-AMD                   ieee   \n",
       "2598            20.2.1             narval-AMD                   ieee   \n",
       "2599            20.2.1             narval-AMD                   ieee   \n",
       "\n",
       "         reference_prefix reference_dataset reference_subject  \\\n",
       "117   outputs/20.2.1/ieee          ds001771            sub-36   \n",
       "118   outputs/20.2.1/ieee          ds001771            sub-36   \n",
       "119   outputs/20.2.1/ieee          ds001771            sub-36   \n",
       "120   outputs/20.2.1/ieee          ds001771            sub-36   \n",
       "121   outputs/20.2.1/ieee          ds001771            sub-36   \n",
       "...                   ...               ...               ...   \n",
       "2595  outputs/20.2.1/ieee          ds000256        sub-CTS201   \n",
       "2596  outputs/20.2.1/ieee          ds000256        sub-CTS201   \n",
       "2597  outputs/20.2.1/ieee          ds000256        sub-CTS201   \n",
       "2598  outputs/20.2.1/ieee          ds000256        sub-CTS201   \n",
       "2599  outputs/20.2.1/ieee          ds000256        sub-CTS201   \n",
       "\n",
       "       reference_template  reference_sample_size  reference_fwhm  \\\n",
       "117   MNI152NLin2009cAsym                      1               0   \n",
       "118   MNI152NLin2009cAsym                      1               0   \n",
       "119   MNI152NLin2009cAsym                      1               0   \n",
       "120   MNI152NLin2009cAsym                      1               0   \n",
       "121   MNI152NLin2009cAsym                      1               0   \n",
       "...                   ...                    ...             ...   \n",
       "2595  MNI152NLin2009cAsym                      1              19   \n",
       "2596  MNI152NLin2009cAsym                      1              19   \n",
       "2597  MNI152NLin2009cAsym                      1              19   \n",
       "2598  MNI152NLin2009cAsym                      1              19   \n",
       "2599  MNI152NLin2009cAsym                      1              19   \n",
       "\n",
       "     reference_mask  ... target_dataset target_subject  \\\n",
       "117           union  ...       ds001771         sub-36   \n",
       "118           union  ...       ds001771         sub-36   \n",
       "119           union  ...       ds001771         sub-36   \n",
       "120           union  ...       ds001771         sub-36   \n",
       "121           union  ...       ds001771         sub-36   \n",
       "...             ...  ...            ...            ...   \n",
       "2595          union  ...       ds000256     sub-CTS201   \n",
       "2596          union  ...       ds000256     sub-CTS201   \n",
       "2597          union  ...       ds000256     sub-CTS201   \n",
       "2598          union  ...       ds000256     sub-CTS201   \n",
       "2599          union  ...       ds000256     sub-CTS201   \n",
       "\n",
       "                    target_template  \\\n",
       "117   MNI152NLin2009cAsymNoised0200   \n",
       "118   MNI152NLin2009cAsymNoised0200   \n",
       "119   MNI152NLin2009cAsymNoised0200   \n",
       "120   MNI152NLin2009cAsymNoised0200   \n",
       "121   MNI152NLin2009cAsymNoised0200   \n",
       "...                             ...   \n",
       "2595  MNI152NLin2009cAsymNoised0200   \n",
       "2596  MNI152NLin2009cAsymNoised0200   \n",
       "2597  MNI152NLin2009cAsymNoised0200   \n",
       "2598  MNI152NLin2009cAsymNoised0200   \n",
       "2599  MNI152NLin2009cAsymNoised0200   \n",
       "\n",
       "                                        target_filename kth_round nb_round  \\\n",
       "117   /home/yohan/Work/fmriprep-reproducibility/resu...         1        1   \n",
       "118   /home/yohan/Work/fmriprep-reproducibility/resu...         1        1   \n",
       "119   /home/yohan/Work/fmriprep-reproducibility/resu...         1        1   \n",
       "120   /home/yohan/Work/fmriprep-reproducibility/resu...         1        1   \n",
       "121   /home/yohan/Work/fmriprep-reproducibility/resu...         1        1   \n",
       "...                                                 ...       ...      ...   \n",
       "2595  /home/yohan/Work/fmriprep-reproducibility/resu...         1        1   \n",
       "2596  /home/yohan/Work/fmriprep-reproducibility/resu...         1        1   \n",
       "2597  /home/yohan/Work/fmriprep-reproducibility/resu...         1        1   \n",
       "2598  /home/yohan/Work/fmriprep-reproducibility/resu...         1        1   \n",
       "2599  /home/yohan/Work/fmriprep-reproducibility/resu...         1        1   \n",
       "\n",
       "     confidence reject    tests          method  \n",
       "117       0.999      0  3651571  fwe-bonferroni  \n",
       "118       0.995      0  3651571  fwe-bonferroni  \n",
       "119       0.990      0  3651571  fwe-bonferroni  \n",
       "120       0.950      0  3651571  fwe-bonferroni  \n",
       "121       0.900      0  3651571  fwe-bonferroni  \n",
       "...         ...    ...      ...             ...  \n",
       "2595      0.700      0  1882780  fwe-bonferroni  \n",
       "2596      0.650      0  1882780  fwe-bonferroni  \n",
       "2597      0.600      0  1882780  fwe-bonferroni  \n",
       "2598      0.550      0  1882780  fwe-bonferroni  \n",
       "2599      0.500      0  1882780  fwe-bonferroni  \n",
       "\n",
       "[27040 rows x 24 columns]"
      ]
     },
     "execution_count": 72,
     "metadata": {},
     "output_type": "execute_result"
    }
   ],
   "source": [
    "template_df.groupby([\"reference_version\", \"reference_dataset\", \"reference_subject\", \"reference_perturbation\", \"reference_template\", \"reference_fwhm\", \"target_dataset\", \"target_subject\", \"target_template\", \"confidence\"], group_keys=True).apply(lambda x: x)\n",
    "bonferroni = template_df[template_df[\"method\"] == \"fwe-bonferroni\"]\n",
    "bonferroni"
   ]
  },
  {
   "cell_type": "code",
   "execution_count": 74,
   "metadata": {},
   "outputs": [
    {
     "data": {
      "text/html": [
       "<div>\n",
       "<style scoped>\n",
       "    .dataframe tbody tr th:only-of-type {\n",
       "        vertical-align: middle;\n",
       "    }\n",
       "\n",
       "    .dataframe tbody tr th {\n",
       "        vertical-align: top;\n",
       "    }\n",
       "\n",
       "    .dataframe thead th {\n",
       "        text-align: right;\n",
       "    }\n",
       "</style>\n",
       "<table border=\"1\" class=\"dataframe\">\n",
       "  <thead>\n",
       "    <tr style=\"text-align: right;\">\n",
       "      <th></th>\n",
       "      <th>reference_version</th>\n",
       "      <th>reference_architecture</th>\n",
       "      <th>reference_perturbation</th>\n",
       "      <th>reference_prefix</th>\n",
       "      <th>reference_dataset</th>\n",
       "      <th>reference_subject</th>\n",
       "      <th>reference_template</th>\n",
       "      <th>reference_sample_size</th>\n",
       "      <th>reference_fwhm</th>\n",
       "      <th>reference_mask</th>\n",
       "      <th>...</th>\n",
       "      <th>target_dataset</th>\n",
       "      <th>target_subject</th>\n",
       "      <th>target_template</th>\n",
       "      <th>target_filename</th>\n",
       "      <th>kth_round</th>\n",
       "      <th>nb_round</th>\n",
       "      <th>confidence</th>\n",
       "      <th>reject</th>\n",
       "      <th>tests</th>\n",
       "      <th>method</th>\n",
       "    </tr>\n",
       "  </thead>\n",
       "  <tbody>\n",
       "  </tbody>\n",
       "</table>\n",
       "<p>0 rows × 24 columns</p>\n",
       "</div>"
      ],
      "text/plain": [
       "Empty DataFrame\n",
       "Columns: [reference_version, reference_architecture, reference_perturbation, reference_prefix, reference_dataset, reference_subject, reference_template, reference_sample_size, reference_fwhm, reference_mask, target_version, target_architecture, target_perturbation, target_prefix, target_dataset, target_subject, target_template, target_filename, kth_round, nb_round, confidence, reject, tests, method]\n",
       "Index: []\n",
       "\n",
       "[0 rows x 24 columns]"
      ]
     },
     "execution_count": 74,
     "metadata": {},
     "output_type": "execute_result"
    }
   ],
   "source": [
    "# Get number of failing tests for each subject, template, perturbation and confidence level\n",
    "bonferroni[bonferroni[\"reference_perturbation\"]!='ieee']"
   ]
  },
  {
   "cell_type": "code",
   "execution_count": null,
   "metadata": {},
   "outputs": [],
   "source": []
  }
 ],
 "metadata": {
  "kernelspec": {
   "display_name": "Python 3",
   "language": "python",
   "name": "python3"
  },
  "language_info": {
   "codemirror_mode": {
    "name": "ipython",
    "version": 3
   },
   "file_extension": ".py",
   "mimetype": "text/x-python",
   "name": "python",
   "nbconvert_exporter": "python",
   "pygments_lexer": "ipython3",
   "version": "3.10.12"
  }
 },
 "nbformat": 4,
 "nbformat_minor": 2
}
